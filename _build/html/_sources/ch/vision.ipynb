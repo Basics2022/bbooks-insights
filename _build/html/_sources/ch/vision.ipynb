{
 "cells": [
  {
   "cell_type": "markdown",
   "id": "989c3d9c-34ef-4e11-a75e-8bacfb00c3d1",
   "metadata": {},
   "source": [
    "# Sensi - Vista"
   ]
  }
 ],
 "metadata": {
  "kernelspec": {
   "display_name": "Python 3 (ipykernel)",
   "language": "python",
   "name": "python3"
  },
  "language_info": {
   "codemirror_mode": {
    "name": "ipython",
    "version": 3
   },
   "file_extension": ".py",
   "mimetype": "text/x-python",
   "name": "python",
   "nbconvert_exporter": "python",
   "pygments_lexer": "ipython3",
   "version": "3.8.10"
  }
 },
 "nbformat": 4,
 "nbformat_minor": 5
}
