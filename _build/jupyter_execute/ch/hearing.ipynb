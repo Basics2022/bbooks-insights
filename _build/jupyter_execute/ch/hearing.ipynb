{
 "cells": [
  {
   "cell_type": "markdown",
   "id": "ba13787f-e275-46c9-b1c5-a915e99d2aa8",
   "metadata": {},
   "source": [
    "# Sensi - Udito"
   ]
  }
 ],
 "metadata": {
  "kernelspec": {
   "display_name": "Python 3 (ipykernel)",
   "language": "python",
   "name": "python3"
  },
  "language_info": {
   "codemirror_mode": {
    "name": "ipython",
    "version": 3
   },
   "file_extension": ".py",
   "mimetype": "text/x-python",
   "name": "python",
   "nbconvert_exporter": "python",
   "pygments_lexer": "ipython3",
   "version": "3.8.10"
  }
 },
 "nbformat": 4,
 "nbformat_minor": 5
}