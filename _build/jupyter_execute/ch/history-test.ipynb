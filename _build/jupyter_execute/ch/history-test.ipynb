{
 "cells": [
  {
   "cell_type": "markdown",
   "id": "6715ac40-b836-4f08-88ad-0afeffb39deb",
   "metadata": {
    "editable": true,
    "slideshow": {
     "slide_type": ""
    },
    "tags": []
   },
   "source": [
    "# Test carta"
   ]
  },
  {
   "cell_type": "markdown",
   "id": "14fe0cad-a9d7-48f4-97d8-8cb8d13737ae",
   "metadata": {
    "editable": true,
    "slideshow": {
     "slide_type": ""
    },
    "tags": []
   },
   "source": [
    "## Libreria $\\texttt{ipyleaflet}$"
   ]
  },
  {
   "cell_type": "markdown",
   "id": "3eb52803-052c-4937-ac19-4200c2bd6a29",
   "metadata": {
    "editable": true,
    "slideshow": {
     "slide_type": ""
    },
    "tags": []
   },
   "source": [
    "### Import librerie"
   ]
  },
  {
   "cell_type": "code",
   "execution_count": 1,
   "id": "3f49b489-4688-426e-a2c1-59771822e04a",
   "metadata": {
    "editable": true,
    "slideshow": {
     "slide_type": ""
    },
    "tags": [
     "hide-output"
    ]
   },
   "outputs": [
    {
     "name": "stdout",
     "output_type": "stream",
     "text": [
      "Defaulting to user installation because normal site-packages is not writeable\r\n"
     ]
    },
    {
     "name": "stdout",
     "output_type": "stream",
     "text": [
      "Requirement already satisfied: ipyleaflet in /home/davide/.local/lib/python3.8/site-packages (0.19.2)\r\n",
      "Requirement already satisfied: branca>=0.5.0 in /home/davide/.local/lib/python3.8/site-packages (from ipyleaflet) (0.8.0)\r\n",
      "Requirement already satisfied: ipywidgets<9,>=7.6.0 in /home/davide/.local/lib/python3.8/site-packages (from ipyleaflet) (7.6.4)\r\n",
      "Requirement already satisfied: jupyter-leaflet<0.20,>=0.19 in /home/davide/.local/lib/python3.8/site-packages (from ipyleaflet) (0.19.2)\r\n",
      "Requirement already satisfied: traittypes<3,>=0.2.1 in /home/davide/.local/lib/python3.8/site-packages (from ipyleaflet) (0.2.1)\r\n",
      "Requirement already satisfied: xyzservices>=2021.8.1 in /home/davide/.local/lib/python3.8/site-packages (from ipyleaflet) (2021.11.0)\r\n",
      "Requirement already satisfied: jinja2>=3 in /home/davide/.local/lib/python3.8/site-packages (from branca>=0.5.0->ipyleaflet) (3.0.3)\r\n",
      "Requirement already satisfied: ipykernel>=4.5.1 in /home/davide/.local/lib/python3.8/site-packages (from ipywidgets<9,>=7.6.0->ipyleaflet) (6.29.5)\r\n",
      "Requirement already satisfied: ipython-genutils~=0.2.0 in /usr/lib/python3/dist-packages (from ipywidgets<9,>=7.6.0->ipyleaflet) (0.2.0)\r\n",
      "Requirement already satisfied: traitlets>=4.3.1 in /home/davide/.local/lib/python3.8/site-packages (from ipywidgets<9,>=7.6.0->ipyleaflet) (5.14.3)\r\n",
      "Requirement already satisfied: nbformat>=4.2.0 in /home/davide/.local/lib/python3.8/site-packages (from ipywidgets<9,>=7.6.0->ipyleaflet) (5.10.4)\r\n",
      "Requirement already satisfied: widgetsnbextension~=3.5.0 in /home/davide/.local/lib/python3.8/site-packages (from ipywidgets<9,>=7.6.0->ipyleaflet) (3.5.1)\r\n",
      "Requirement already satisfied: ipython>=4.0.0 in /home/davide/.local/lib/python3.8/site-packages (from ipywidgets<9,>=7.6.0->ipyleaflet) (8.12.3)\r\n",
      "Requirement already satisfied: jupyterlab-widgets>=1.0.0 in /home/davide/.local/lib/python3.8/site-packages (from ipywidgets<9,>=7.6.0->ipyleaflet) (1.0.1)\r\n"
     ]
    },
    {
     "name": "stdout",
     "output_type": "stream",
     "text": [
      "Requirement already satisfied: comm>=0.1.1 in /home/davide/.local/lib/python3.8/site-packages (from ipykernel>=4.5.1->ipywidgets<9,>=7.6.0->ipyleaflet) (0.2.2)\r\n",
      "Requirement already satisfied: debugpy>=1.6.5 in /home/davide/.local/lib/python3.8/site-packages (from ipykernel>=4.5.1->ipywidgets<9,>=7.6.0->ipyleaflet) (1.8.7)\r\n",
      "Requirement already satisfied: jupyter-client>=6.1.12 in /home/davide/.local/lib/python3.8/site-packages (from ipykernel>=4.5.1->ipywidgets<9,>=7.6.0->ipyleaflet) (8.6.2)\r\n",
      "Requirement already satisfied: jupyter-core!=5.0.*,>=4.12 in /home/davide/.local/lib/python3.8/site-packages (from ipykernel>=4.5.1->ipywidgets<9,>=7.6.0->ipyleaflet) (5.7.2)\r\n",
      "Requirement already satisfied: matplotlib-inline>=0.1 in /home/davide/.local/lib/python3.8/site-packages (from ipykernel>=4.5.1->ipywidgets<9,>=7.6.0->ipyleaflet) (0.1.7)\r\n",
      "Requirement already satisfied: nest-asyncio in /home/davide/.local/lib/python3.8/site-packages (from ipykernel>=4.5.1->ipywidgets<9,>=7.6.0->ipyleaflet) (1.5.8)\r\n",
      "Requirement already satisfied: packaging in /home/davide/.local/lib/python3.8/site-packages (from ipykernel>=4.5.1->ipywidgets<9,>=7.6.0->ipyleaflet) (24.1)\r\n",
      "Requirement already satisfied: psutil in /usr/lib/python3/dist-packages (from ipykernel>=4.5.1->ipywidgets<9,>=7.6.0->ipyleaflet) (5.5.1)\r\n",
      "Requirement already satisfied: pyzmq>=24 in /home/davide/.local/lib/python3.8/site-packages (from ipykernel>=4.5.1->ipywidgets<9,>=7.6.0->ipyleaflet) (26.2.0)\r\n",
      "Requirement already satisfied: tornado>=6.1 in /home/davide/.local/lib/python3.8/site-packages (from ipykernel>=4.5.1->ipywidgets<9,>=7.6.0->ipyleaflet) (6.4.1)\r\n",
      "Requirement already satisfied: backcall in /usr/lib/python3/dist-packages (from ipython>=4.0.0->ipywidgets<9,>=7.6.0->ipyleaflet) (0.1.0)\r\n",
      "Requirement already satisfied: decorator in /usr/lib/python3/dist-packages (from ipython>=4.0.0->ipywidgets<9,>=7.6.0->ipyleaflet) (4.4.2)\r\n",
      "Requirement already satisfied: jedi>=0.16 in /home/davide/.local/lib/python3.8/site-packages (from ipython>=4.0.0->ipywidgets<9,>=7.6.0->ipyleaflet) (0.19.1)\r\n",
      "Requirement already satisfied: pickleshare in /usr/lib/python3/dist-packages (from ipython>=4.0.0->ipywidgets<9,>=7.6.0->ipyleaflet) (0.7.5)\r\n",
      "Requirement already satisfied: prompt-toolkit!=3.0.37,<3.1.0,>=3.0.30 in /home/davide/.local/lib/python3.8/site-packages (from ipython>=4.0.0->ipywidgets<9,>=7.6.0->ipyleaflet) (3.0.48)\r\n",
      "Requirement already satisfied: pygments>=2.4.0 in /home/davide/.local/lib/python3.8/site-packages (from ipython>=4.0.0->ipywidgets<9,>=7.6.0->ipyleaflet) (2.18.0)\r\n",
      "Requirement already satisfied: stack-data in /home/davide/.local/lib/python3.8/site-packages (from ipython>=4.0.0->ipywidgets<9,>=7.6.0->ipyleaflet) (0.6.3)\r\n",
      "Requirement already satisfied: typing-extensions in /home/davide/.local/lib/python3.8/site-packages (from ipython>=4.0.0->ipywidgets<9,>=7.6.0->ipyleaflet) (4.5.0)\r\n",
      "Requirement already satisfied: pexpect>4.3 in /home/davide/.local/lib/python3.8/site-packages (from ipython>=4.0.0->ipywidgets<9,>=7.6.0->ipyleaflet) (4.8.0)\r\n",
      "Requirement already satisfied: MarkupSafe>=2.0 in /home/davide/.local/lib/python3.8/site-packages (from jinja2>=3->branca>=0.5.0->ipyleaflet) (2.0.1)\r\n",
      "Requirement already satisfied: fastjsonschema>=2.15 in /home/davide/.local/lib/python3.8/site-packages (from nbformat>=4.2.0->ipywidgets<9,>=7.6.0->ipyleaflet) (2.20.0)\r\n",
      "Requirement already satisfied: jsonschema>=2.6 in /home/davide/.local/lib/python3.8/site-packages (from nbformat>=4.2.0->ipywidgets<9,>=7.6.0->ipyleaflet) (4.23.0)\r\n"
     ]
    },
    {
     "name": "stdout",
     "output_type": "stream",
     "text": [
      "Requirement already satisfied: notebook>=4.4.1 in /home/davide/.local/lib/python3.8/site-packages (from widgetsnbextension~=3.5.0->ipywidgets<9,>=7.6.0->ipyleaflet) (7.2.2)\r\n",
      "Requirement already satisfied: parso<0.9.0,>=0.8.3 in /home/davide/.local/lib/python3.8/site-packages (from jedi>=0.16->ipython>=4.0.0->ipywidgets<9,>=7.6.0->ipyleaflet) (0.8.4)\r\n",
      "Requirement already satisfied: attrs>=22.2.0 in /home/davide/.local/lib/python3.8/site-packages (from jsonschema>=2.6->nbformat>=4.2.0->ipywidgets<9,>=7.6.0->ipyleaflet) (24.2.0)\r\n",
      "Requirement already satisfied: importlib-resources>=1.4.0 in /home/davide/.local/lib/python3.8/site-packages (from jsonschema>=2.6->nbformat>=4.2.0->ipywidgets<9,>=7.6.0->ipyleaflet) (5.4.0)\r\n",
      "Requirement already satisfied: jsonschema-specifications>=2023.03.6 in /home/davide/.local/lib/python3.8/site-packages (from jsonschema>=2.6->nbformat>=4.2.0->ipywidgets<9,>=7.6.0->ipyleaflet) (2023.12.1)\r\n",
      "Requirement already satisfied: pkgutil-resolve-name>=1.3.10 in /home/davide/.local/lib/python3.8/site-packages (from jsonschema>=2.6->nbformat>=4.2.0->ipywidgets<9,>=7.6.0->ipyleaflet) (1.3.10)\r\n",
      "Requirement already satisfied: referencing>=0.28.4 in /home/davide/.local/lib/python3.8/site-packages (from jsonschema>=2.6->nbformat>=4.2.0->ipywidgets<9,>=7.6.0->ipyleaflet) (0.35.1)\r\n",
      "Requirement already satisfied: rpds-py>=0.7.1 in /home/davide/.local/lib/python3.8/site-packages (from jsonschema>=2.6->nbformat>=4.2.0->ipywidgets<9,>=7.6.0->ipyleaflet) (0.20.0)\r\n",
      "Requirement already satisfied: importlib-metadata>=4.8.3 in /home/davide/.local/lib/python3.8/site-packages (from jupyter-client>=6.1.12->ipykernel>=4.5.1->ipywidgets<9,>=7.6.0->ipyleaflet) (6.8.0)\r\n",
      "Requirement already satisfied: python-dateutil>=2.8.2 in /home/davide/.local/lib/python3.8/site-packages (from jupyter-client>=6.1.12->ipykernel>=4.5.1->ipywidgets<9,>=7.6.0->ipyleaflet) (2.9.0.post0)\r\n",
      "Requirement already satisfied: platformdirs>=2.5 in /home/davide/.local/lib/python3.8/site-packages (from jupyter-core!=5.0.*,>=4.12->ipykernel>=4.5.1->ipywidgets<9,>=7.6.0->ipyleaflet) (2.5.1)\r\n",
      "Requirement already satisfied: jupyter-server<3,>=2.4.0 in /home/davide/.local/lib/python3.8/site-packages (from notebook>=4.4.1->widgetsnbextension~=3.5.0->ipywidgets<9,>=7.6.0->ipyleaflet) (2.14.2)\r\n",
      "Requirement already satisfied: jupyterlab-server<3,>=2.27.1 in /home/davide/.local/lib/python3.8/site-packages (from notebook>=4.4.1->widgetsnbextension~=3.5.0->ipywidgets<9,>=7.6.0->ipyleaflet) (2.27.3)\r\n",
      "Requirement already satisfied: jupyterlab<4.3,>=4.2.0 in /home/davide/.local/lib/python3.8/site-packages (from notebook>=4.4.1->widgetsnbextension~=3.5.0->ipywidgets<9,>=7.6.0->ipyleaflet) (4.2.5)\r\n",
      "Requirement already satisfied: notebook-shim<0.3,>=0.2 in /home/davide/.local/lib/python3.8/site-packages (from notebook>=4.4.1->widgetsnbextension~=3.5.0->ipywidgets<9,>=7.6.0->ipyleaflet) (0.2.4)\r\n",
      "Requirement already satisfied: ptyprocess>=0.5 in /home/davide/.local/lib/python3.8/site-packages (from pexpect>4.3->ipython>=4.0.0->ipywidgets<9,>=7.6.0->ipyleaflet) (0.7.0)\r\n",
      "Requirement already satisfied: wcwidth in /usr/lib/python3/dist-packages (from prompt-toolkit!=3.0.37,<3.1.0,>=3.0.30->ipython>=4.0.0->ipywidgets<9,>=7.6.0->ipyleaflet) (0.1.8)\r\n"
     ]
    },
    {
     "name": "stdout",
     "output_type": "stream",
     "text": [
      "Requirement already satisfied: executing>=1.2.0 in /home/davide/.local/lib/python3.8/site-packages (from stack-data->ipython>=4.0.0->ipywidgets<9,>=7.6.0->ipyleaflet) (2.1.0)\r\n",
      "Requirement already satisfied: asttokens>=2.1.0 in /home/davide/.local/lib/python3.8/site-packages (from stack-data->ipython>=4.0.0->ipywidgets<9,>=7.6.0->ipyleaflet) (2.4.1)\r\n",
      "Requirement already satisfied: pure-eval in /home/davide/.local/lib/python3.8/site-packages (from stack-data->ipython>=4.0.0->ipywidgets<9,>=7.6.0->ipyleaflet) (0.2.3)\r\n",
      "Requirement already satisfied: six>=1.12.0 in /home/davide/.local/lib/python3.8/site-packages (from asttokens>=2.1.0->stack-data->ipython>=4.0.0->ipywidgets<9,>=7.6.0->ipyleaflet) (1.16.0)\r\n",
      "Requirement already satisfied: zipp>=0.5 in /home/davide/.local/lib/python3.8/site-packages (from importlib-metadata>=4.8.3->jupyter-client>=6.1.12->ipykernel>=4.5.1->ipywidgets<9,>=7.6.0->ipyleaflet) (3.7.0)\r\n",
      "Requirement already satisfied: anyio>=3.1.0 in /home/davide/.local/lib/python3.8/site-packages (from jupyter-server<3,>=2.4.0->notebook>=4.4.1->widgetsnbextension~=3.5.0->ipywidgets<9,>=7.6.0->ipyleaflet) (3.4.0)\r\n",
      "Requirement already satisfied: argon2-cffi>=21.1 in /home/davide/.local/lib/python3.8/site-packages (from jupyter-server<3,>=2.4.0->notebook>=4.4.1->widgetsnbextension~=3.5.0->ipywidgets<9,>=7.6.0->ipyleaflet) (21.1.0)\r\n"
     ]
    },
    {
     "name": "stdout",
     "output_type": "stream",
     "text": [
      "Requirement already satisfied: jupyter-events>=0.9.0 in /home/davide/.local/lib/python3.8/site-packages (from jupyter-server<3,>=2.4.0->notebook>=4.4.1->widgetsnbextension~=3.5.0->ipywidgets<9,>=7.6.0->ipyleaflet) (0.10.0)\r\n",
      "Requirement already satisfied: jupyter-server-terminals>=0.4.4 in /home/davide/.local/lib/python3.8/site-packages (from jupyter-server<3,>=2.4.0->notebook>=4.4.1->widgetsnbextension~=3.5.0->ipywidgets<9,>=7.6.0->ipyleaflet) (0.5.3)\r\n",
      "Requirement already satisfied: nbconvert>=6.4.4 in /home/davide/.local/lib/python3.8/site-packages (from jupyter-server<3,>=2.4.0->notebook>=4.4.1->widgetsnbextension~=3.5.0->ipywidgets<9,>=7.6.0->ipyleaflet) (7.16.4)\r\n",
      "Requirement already satisfied: overrides>=5.0 in /home/davide/.local/lib/python3.8/site-packages (from jupyter-server<3,>=2.4.0->notebook>=4.4.1->widgetsnbextension~=3.5.0->ipywidgets<9,>=7.6.0->ipyleaflet) (7.7.0)\r\n",
      "Requirement already satisfied: prometheus-client>=0.9 in /home/davide/.local/lib/python3.8/site-packages (from jupyter-server<3,>=2.4.0->notebook>=4.4.1->widgetsnbextension~=3.5.0->ipywidgets<9,>=7.6.0->ipyleaflet) (0.11.0)\r\n",
      "Requirement already satisfied: send2trash>=1.8.2 in /home/davide/.local/lib/python3.8/site-packages (from jupyter-server<3,>=2.4.0->notebook>=4.4.1->widgetsnbextension~=3.5.0->ipywidgets<9,>=7.6.0->ipyleaflet) (1.8.3)\r\n",
      "Requirement already satisfied: terminado>=0.8.3 in /home/davide/.local/lib/python3.8/site-packages (from jupyter-server<3,>=2.4.0->notebook>=4.4.1->widgetsnbextension~=3.5.0->ipywidgets<9,>=7.6.0->ipyleaflet) (0.11.1)\r\n",
      "Requirement already satisfied: websocket-client>=1.7 in /home/davide/.local/lib/python3.8/site-packages (from jupyter-server<3,>=2.4.0->notebook>=4.4.1->widgetsnbextension~=3.5.0->ipywidgets<9,>=7.6.0->ipyleaflet) (1.8.0)\r\n",
      "Requirement already satisfied: async-lru>=1.0.0 in /home/davide/.local/lib/python3.8/site-packages (from jupyterlab<4.3,>=4.2.0->notebook>=4.4.1->widgetsnbextension~=3.5.0->ipywidgets<9,>=7.6.0->ipyleaflet) (2.0.4)\r\n",
      "Requirement already satisfied: httpx>=0.25.0 in /home/davide/.local/lib/python3.8/site-packages (from jupyterlab<4.3,>=4.2.0->notebook>=4.4.1->widgetsnbextension~=3.5.0->ipywidgets<9,>=7.6.0->ipyleaflet) (0.27.2)\r\n",
      "Requirement already satisfied: jupyter-lsp>=2.0.0 in /home/davide/.local/lib/python3.8/site-packages (from jupyterlab<4.3,>=4.2.0->notebook>=4.4.1->widgetsnbextension~=3.5.0->ipywidgets<9,>=7.6.0->ipyleaflet) (2.2.5)\r\n",
      "Requirement already satisfied: setuptools>=40.1.0 in /home/davide/.local/lib/python3.8/site-packages (from jupyterlab<4.3,>=4.2.0->notebook>=4.4.1->widgetsnbextension~=3.5.0->ipywidgets<9,>=7.6.0->ipyleaflet) (62.1.0)\r\n",
      "Requirement already satisfied: tomli>=1.2.2 in /home/davide/.local/lib/python3.8/site-packages (from jupyterlab<4.3,>=4.2.0->notebook>=4.4.1->widgetsnbextension~=3.5.0->ipywidgets<9,>=7.6.0->ipyleaflet) (1.2.2)\r\n",
      "Requirement already satisfied: babel>=2.10 in /home/davide/.local/lib/python3.8/site-packages (from jupyterlab-server<3,>=2.27.1->notebook>=4.4.1->widgetsnbextension~=3.5.0->ipywidgets<9,>=7.6.0->ipyleaflet) (2.16.0)\r\n",
      "Requirement already satisfied: json5>=0.9.0 in /home/davide/.local/lib/python3.8/site-packages (from jupyterlab-server<3,>=2.27.1->notebook>=4.4.1->widgetsnbextension~=3.5.0->ipywidgets<9,>=7.6.0->ipyleaflet) (0.9.6)\r\n",
      "Requirement already satisfied: requests>=2.31 in /home/davide/.local/lib/python3.8/site-packages (from jupyterlab-server<3,>=2.27.1->notebook>=4.4.1->widgetsnbextension~=3.5.0->ipywidgets<9,>=7.6.0->ipyleaflet) (2.32.3)\r\n"
     ]
    },
    {
     "name": "stdout",
     "output_type": "stream",
     "text": [
      "Requirement already satisfied: idna>=2.8 in /home/davide/.local/lib/python3.8/site-packages (from anyio>=3.1.0->jupyter-server<3,>=2.4.0->notebook>=4.4.1->widgetsnbextension~=3.5.0->ipywidgets<9,>=7.6.0->ipyleaflet) (2.10)\r\n",
      "Requirement already satisfied: sniffio>=1.1 in /home/davide/.local/lib/python3.8/site-packages (from anyio>=3.1.0->jupyter-server<3,>=2.4.0->notebook>=4.4.1->widgetsnbextension~=3.5.0->ipywidgets<9,>=7.6.0->ipyleaflet) (1.2.0)\r\n",
      "Requirement already satisfied: cffi>=1.0.0 in /home/davide/.local/lib/python3.8/site-packages (from argon2-cffi>=21.1->jupyter-server<3,>=2.4.0->notebook>=4.4.1->widgetsnbextension~=3.5.0->ipywidgets<9,>=7.6.0->ipyleaflet) (1.14.3)\r\n",
      "Requirement already satisfied: pytz>=2015.7 in /usr/lib/python3/dist-packages (from babel>=2.10->jupyterlab-server<3,>=2.27.1->notebook>=4.4.1->widgetsnbextension~=3.5.0->ipywidgets<9,>=7.6.0->ipyleaflet) (2019.3)\r\n",
      "Requirement already satisfied: certifi in /home/davide/.local/lib/python3.8/site-packages (from httpx>=0.25.0->jupyterlab<4.3,>=4.2.0->notebook>=4.4.1->widgetsnbextension~=3.5.0->ipywidgets<9,>=7.6.0->ipyleaflet) (2022.6.15)\r\n",
      "Requirement already satisfied: httpcore==1.* in /home/davide/.local/lib/python3.8/site-packages (from httpx>=0.25.0->jupyterlab<4.3,>=4.2.0->notebook>=4.4.1->widgetsnbextension~=3.5.0->ipywidgets<9,>=7.6.0->ipyleaflet) (1.0.6)\r\n",
      "Requirement already satisfied: h11<0.15,>=0.13 in /home/davide/.local/lib/python3.8/site-packages (from httpcore==1.*->httpx>=0.25.0->jupyterlab<4.3,>=4.2.0->notebook>=4.4.1->widgetsnbextension~=3.5.0->ipywidgets<9,>=7.6.0->ipyleaflet) (0.13.0)\r\n",
      "Requirement already satisfied: python-json-logger>=2.0.4 in /home/davide/.local/lib/python3.8/site-packages (from jupyter-events>=0.9.0->jupyter-server<3,>=2.4.0->notebook>=4.4.1->widgetsnbextension~=3.5.0->ipywidgets<9,>=7.6.0->ipyleaflet) (2.0.7)\r\n",
      "Requirement already satisfied: pyyaml>=5.3 in /usr/lib/python3/dist-packages (from jupyter-events>=0.9.0->jupyter-server<3,>=2.4.0->notebook>=4.4.1->widgetsnbextension~=3.5.0->ipywidgets<9,>=7.6.0->ipyleaflet) (5.3.1)\r\n",
      "Requirement already satisfied: rfc3339-validator in /home/davide/.local/lib/python3.8/site-packages (from jupyter-events>=0.9.0->jupyter-server<3,>=2.4.0->notebook>=4.4.1->widgetsnbextension~=3.5.0->ipywidgets<9,>=7.6.0->ipyleaflet) (0.1.4)\r\n",
      "Requirement already satisfied: rfc3986-validator>=0.1.1 in /home/davide/.local/lib/python3.8/site-packages (from jupyter-events>=0.9.0->jupyter-server<3,>=2.4.0->notebook>=4.4.1->widgetsnbextension~=3.5.0->ipywidgets<9,>=7.6.0->ipyleaflet) (0.1.1)\r\n"
     ]
    },
    {
     "name": "stdout",
     "output_type": "stream",
     "text": [
      "Requirement already satisfied: beautifulsoup4 in /usr/lib/python3/dist-packages (from nbconvert>=6.4.4->jupyter-server<3,>=2.4.0->notebook>=4.4.1->widgetsnbextension~=3.5.0->ipywidgets<9,>=7.6.0->ipyleaflet) (4.8.2)\r\n",
      "Requirement already satisfied: bleach!=5.0.0 in /usr/lib/python3/dist-packages (from nbconvert>=6.4.4->jupyter-server<3,>=2.4.0->notebook>=4.4.1->widgetsnbextension~=3.5.0->ipywidgets<9,>=7.6.0->ipyleaflet) (3.1.1)\r\n",
      "Requirement already satisfied: defusedxml in /usr/lib/python3/dist-packages (from nbconvert>=6.4.4->jupyter-server<3,>=2.4.0->notebook>=4.4.1->widgetsnbextension~=3.5.0->ipywidgets<9,>=7.6.0->ipyleaflet) (0.6.0)\r\n",
      "Requirement already satisfied: jupyterlab-pygments in /home/davide/.local/lib/python3.8/site-packages (from nbconvert>=6.4.4->jupyter-server<3,>=2.4.0->notebook>=4.4.1->widgetsnbextension~=3.5.0->ipywidgets<9,>=7.6.0->ipyleaflet) (0.3.0)\r\n",
      "Requirement already satisfied: mistune<4,>=2.0.3 in /home/davide/.local/lib/python3.8/site-packages (from nbconvert>=6.4.4->jupyter-server<3,>=2.4.0->notebook>=4.4.1->widgetsnbextension~=3.5.0->ipywidgets<9,>=7.6.0->ipyleaflet) (3.0.2)\r\n",
      "Requirement already satisfied: nbclient>=0.5.0 in /home/davide/.local/lib/python3.8/site-packages (from nbconvert>=6.4.4->jupyter-server<3,>=2.4.0->notebook>=4.4.1->widgetsnbextension~=3.5.0->ipywidgets<9,>=7.6.0->ipyleaflet) (0.7.4)\r\n",
      "Requirement already satisfied: pandocfilters>=1.4.1 in /usr/lib/python3/dist-packages (from nbconvert>=6.4.4->jupyter-server<3,>=2.4.0->notebook>=4.4.1->widgetsnbextension~=3.5.0->ipywidgets<9,>=7.6.0->ipyleaflet) (1.4.2)\r\n",
      "Requirement already satisfied: tinycss2 in /home/davide/.local/lib/python3.8/site-packages (from nbconvert>=6.4.4->jupyter-server<3,>=2.4.0->notebook>=4.4.1->widgetsnbextension~=3.5.0->ipywidgets<9,>=7.6.0->ipyleaflet) (1.1.1)\r\n",
      "Requirement already satisfied: charset-normalizer<4,>=2 in /home/davide/.local/lib/python3.8/site-packages (from requests>=2.31->jupyterlab-server<3,>=2.27.1->notebook>=4.4.1->widgetsnbextension~=3.5.0->ipywidgets<9,>=7.6.0->ipyleaflet) (2.0.7)\r\n",
      "Requirement already satisfied: urllib3<3,>=1.21.1 in /home/davide/.local/lib/python3.8/site-packages (from requests>=2.31->jupyterlab-server<3,>=2.27.1->notebook>=4.4.1->widgetsnbextension~=3.5.0->ipywidgets<9,>=7.6.0->ipyleaflet) (1.26.8)\r\n"
     ]
    },
    {
     "name": "stdout",
     "output_type": "stream",
     "text": [
      "Requirement already satisfied: pycparser in /home/davide/.local/lib/python3.8/site-packages (from cffi>=1.0.0->argon2-cffi>=21.1->jupyter-server<3,>=2.4.0->notebook>=4.4.1->widgetsnbextension~=3.5.0->ipywidgets<9,>=7.6.0->ipyleaflet) (2.20)\r\n",
      "Requirement already satisfied: fqdn in /home/davide/.local/lib/python3.8/site-packages (from jsonschema[format-nongpl]>=4.18.0->jupyter-events>=0.9.0->jupyter-server<3,>=2.4.0->notebook>=4.4.1->widgetsnbextension~=3.5.0->ipywidgets<9,>=7.6.0->ipyleaflet) (1.5.1)\r\n",
      "Requirement already satisfied: isoduration in /home/davide/.local/lib/python3.8/site-packages (from jsonschema[format-nongpl]>=4.18.0->jupyter-events>=0.9.0->jupyter-server<3,>=2.4.0->notebook>=4.4.1->widgetsnbextension~=3.5.0->ipywidgets<9,>=7.6.0->ipyleaflet) (20.11.0)\r\n",
      "Requirement already satisfied: jsonpointer>1.13 in /home/davide/.local/lib/python3.8/site-packages (from jsonschema[format-nongpl]>=4.18.0->jupyter-events>=0.9.0->jupyter-server<3,>=2.4.0->notebook>=4.4.1->widgetsnbextension~=3.5.0->ipywidgets<9,>=7.6.0->ipyleaflet) (3.0.0)\r\n",
      "Requirement already satisfied: uri-template in /home/davide/.local/lib/python3.8/site-packages (from jsonschema[format-nongpl]>=4.18.0->jupyter-events>=0.9.0->jupyter-server<3,>=2.4.0->notebook>=4.4.1->widgetsnbextension~=3.5.0->ipywidgets<9,>=7.6.0->ipyleaflet) (1.3.0)\r\n",
      "Requirement already satisfied: webcolors>=24.6.0 in /home/davide/.local/lib/python3.8/site-packages (from jsonschema[format-nongpl]>=4.18.0->jupyter-events>=0.9.0->jupyter-server<3,>=2.4.0->notebook>=4.4.1->widgetsnbextension~=3.5.0->ipywidgets<9,>=7.6.0->ipyleaflet) (24.8.0)\r\n"
     ]
    },
    {
     "name": "stdout",
     "output_type": "stream",
     "text": [
      "Requirement already satisfied: webencodings>=0.4 in /usr/lib/python3/dist-packages (from tinycss2->nbconvert>=6.4.4->jupyter-server<3,>=2.4.0->notebook>=4.4.1->widgetsnbextension~=3.5.0->ipywidgets<9,>=7.6.0->ipyleaflet) (0.5.1)\r\n",
      "Requirement already satisfied: arrow>=0.15.0 in /home/davide/.local/lib/python3.8/site-packages (from isoduration->jsonschema[format-nongpl]>=4.18.0->jupyter-events>=0.9.0->jupyter-server<3,>=2.4.0->notebook>=4.4.1->widgetsnbextension~=3.5.0->ipywidgets<9,>=7.6.0->ipyleaflet) (1.3.0)\r\n",
      "Requirement already satisfied: types-python-dateutil>=2.8.10 in /home/davide/.local/lib/python3.8/site-packages (from arrow>=0.15.0->isoduration->jsonschema[format-nongpl]>=4.18.0->jupyter-events>=0.9.0->jupyter-server<3,>=2.4.0->notebook>=4.4.1->widgetsnbextension~=3.5.0->ipywidgets<9,>=7.6.0->ipyleaflet) (2.9.0.20241003)\r\n"
     ]
    },
    {
     "name": "stdout",
     "output_type": "stream",
     "text": [
      "\u001b[33mWARNING: Error parsing dependencies of arcgis: .* suffix can only be used with `==` or `!=` operators\r\n",
      "    keyring (<=21.8.*,>=19)\r\n",
      "             ~~~~~~~^\u001b[0m\u001b[33m\r\n",
      "\u001b[0m"
     ]
    },
    {
     "name": "stdout",
     "output_type": "stream",
     "text": [
      "\u001b[33mWARNING: Error parsing dependencies of quilt3: Expected matching RIGHT_PARENTHESIS for LEFT_PARENTHESIS, after version specifier\r\n",
      "    urllib3 (<1.26,>=1.25.4numpy>=1.14.0) ; extra == 'tests'\r\n",
      "            ~~~~~~~~~~~~~~~^\u001b[0m\u001b[33m\r\n",
      "\u001b[0m"
     ]
    },
    {
     "name": "stdout",
     "output_type": "stream",
     "text": [
      "\u001b[33mWARNING: Error parsing dependencies of distro-info: Invalid version: '0.23ubuntu1'\u001b[0m\u001b[33m\r\n",
      "\u001b[0m"
     ]
    },
    {
     "name": "stdout",
     "output_type": "stream",
     "text": [
      "\u001b[33mWARNING: Error parsing dependencies of python-debian: Invalid version: '0.1.36ubuntu1'\u001b[0m\u001b[33m\r\n",
      "\u001b[0m"
     ]
    },
    {
     "name": "stdout",
     "output_type": "stream",
     "text": [
      "Note: you may need to restart the kernel to use updated packages.\n"
     ]
    },
    {
     "name": "stdout",
     "output_type": "stream",
     "text": [
      "Defaulting to user installation because normal site-packages is not writeable\r\n"
     ]
    },
    {
     "name": "stdout",
     "output_type": "stream",
     "text": [
      "Requirement already satisfied: ipywidgets in /home/davide/.local/lib/python3.8/site-packages (7.6.4)\r\n",
      "Requirement already satisfied: ipykernel>=4.5.1 in /home/davide/.local/lib/python3.8/site-packages (from ipywidgets) (6.29.5)\r\n",
      "Requirement already satisfied: ipython-genutils~=0.2.0 in /usr/lib/python3/dist-packages (from ipywidgets) (0.2.0)\r\n",
      "Requirement already satisfied: traitlets>=4.3.1 in /home/davide/.local/lib/python3.8/site-packages (from ipywidgets) (5.14.3)\r\n",
      "Requirement already satisfied: nbformat>=4.2.0 in /home/davide/.local/lib/python3.8/site-packages (from ipywidgets) (5.10.4)\r\n",
      "Requirement already satisfied: widgetsnbextension~=3.5.0 in /home/davide/.local/lib/python3.8/site-packages (from ipywidgets) (3.5.1)\r\n",
      "Requirement already satisfied: ipython>=4.0.0 in /home/davide/.local/lib/python3.8/site-packages (from ipywidgets) (8.12.3)\r\n",
      "Requirement already satisfied: jupyterlab-widgets>=1.0.0 in /home/davide/.local/lib/python3.8/site-packages (from ipywidgets) (1.0.1)\r\n",
      "Requirement already satisfied: comm>=0.1.1 in /home/davide/.local/lib/python3.8/site-packages (from ipykernel>=4.5.1->ipywidgets) (0.2.2)\r\n",
      "Requirement already satisfied: debugpy>=1.6.5 in /home/davide/.local/lib/python3.8/site-packages (from ipykernel>=4.5.1->ipywidgets) (1.8.7)\r\n",
      "Requirement already satisfied: jupyter-client>=6.1.12 in /home/davide/.local/lib/python3.8/site-packages (from ipykernel>=4.5.1->ipywidgets) (8.6.2)\r\n",
      "Requirement already satisfied: jupyter-core!=5.0.*,>=4.12 in /home/davide/.local/lib/python3.8/site-packages (from ipykernel>=4.5.1->ipywidgets) (5.7.2)\r\n",
      "Requirement already satisfied: matplotlib-inline>=0.1 in /home/davide/.local/lib/python3.8/site-packages (from ipykernel>=4.5.1->ipywidgets) (0.1.7)\r\n",
      "Requirement already satisfied: nest-asyncio in /home/davide/.local/lib/python3.8/site-packages (from ipykernel>=4.5.1->ipywidgets) (1.5.8)\r\n",
      "Requirement already satisfied: packaging in /home/davide/.local/lib/python3.8/site-packages (from ipykernel>=4.5.1->ipywidgets) (24.1)\r\n",
      "Requirement already satisfied: psutil in /usr/lib/python3/dist-packages (from ipykernel>=4.5.1->ipywidgets) (5.5.1)\r\n",
      "Requirement already satisfied: pyzmq>=24 in /home/davide/.local/lib/python3.8/site-packages (from ipykernel>=4.5.1->ipywidgets) (26.2.0)\r\n",
      "Requirement already satisfied: tornado>=6.1 in /home/davide/.local/lib/python3.8/site-packages (from ipykernel>=4.5.1->ipywidgets) (6.4.1)\r\n"
     ]
    },
    {
     "name": "stdout",
     "output_type": "stream",
     "text": [
      "Requirement already satisfied: backcall in /usr/lib/python3/dist-packages (from ipython>=4.0.0->ipywidgets) (0.1.0)\r\n",
      "Requirement already satisfied: decorator in /usr/lib/python3/dist-packages (from ipython>=4.0.0->ipywidgets) (4.4.2)\r\n",
      "Requirement already satisfied: jedi>=0.16 in /home/davide/.local/lib/python3.8/site-packages (from ipython>=4.0.0->ipywidgets) (0.19.1)\r\n",
      "Requirement already satisfied: pickleshare in /usr/lib/python3/dist-packages (from ipython>=4.0.0->ipywidgets) (0.7.5)\r\n",
      "Requirement already satisfied: prompt-toolkit!=3.0.37,<3.1.0,>=3.0.30 in /home/davide/.local/lib/python3.8/site-packages (from ipython>=4.0.0->ipywidgets) (3.0.48)\r\n",
      "Requirement already satisfied: pygments>=2.4.0 in /home/davide/.local/lib/python3.8/site-packages (from ipython>=4.0.0->ipywidgets) (2.18.0)\r\n",
      "Requirement already satisfied: stack-data in /home/davide/.local/lib/python3.8/site-packages (from ipython>=4.0.0->ipywidgets) (0.6.3)\r\n",
      "Requirement already satisfied: typing-extensions in /home/davide/.local/lib/python3.8/site-packages (from ipython>=4.0.0->ipywidgets) (4.5.0)\r\n",
      "Requirement already satisfied: pexpect>4.3 in /home/davide/.local/lib/python3.8/site-packages (from ipython>=4.0.0->ipywidgets) (4.8.0)\r\n",
      "Requirement already satisfied: fastjsonschema>=2.15 in /home/davide/.local/lib/python3.8/site-packages (from nbformat>=4.2.0->ipywidgets) (2.20.0)\r\n",
      "Requirement already satisfied: jsonschema>=2.6 in /home/davide/.local/lib/python3.8/site-packages (from nbformat>=4.2.0->ipywidgets) (4.23.0)\r\n",
      "Requirement already satisfied: notebook>=4.4.1 in /home/davide/.local/lib/python3.8/site-packages (from widgetsnbextension~=3.5.0->ipywidgets) (7.2.2)\r\n"
     ]
    },
    {
     "name": "stdout",
     "output_type": "stream",
     "text": [
      "Requirement already satisfied: parso<0.9.0,>=0.8.3 in /home/davide/.local/lib/python3.8/site-packages (from jedi>=0.16->ipython>=4.0.0->ipywidgets) (0.8.4)\r\n",
      "Requirement already satisfied: attrs>=22.2.0 in /home/davide/.local/lib/python3.8/site-packages (from jsonschema>=2.6->nbformat>=4.2.0->ipywidgets) (24.2.0)\r\n",
      "Requirement already satisfied: importlib-resources>=1.4.0 in /home/davide/.local/lib/python3.8/site-packages (from jsonschema>=2.6->nbformat>=4.2.0->ipywidgets) (5.4.0)\r\n",
      "Requirement already satisfied: jsonschema-specifications>=2023.03.6 in /home/davide/.local/lib/python3.8/site-packages (from jsonschema>=2.6->nbformat>=4.2.0->ipywidgets) (2023.12.1)\r\n",
      "Requirement already satisfied: pkgutil-resolve-name>=1.3.10 in /home/davide/.local/lib/python3.8/site-packages (from jsonschema>=2.6->nbformat>=4.2.0->ipywidgets) (1.3.10)\r\n",
      "Requirement already satisfied: referencing>=0.28.4 in /home/davide/.local/lib/python3.8/site-packages (from jsonschema>=2.6->nbformat>=4.2.0->ipywidgets) (0.35.1)\r\n",
      "Requirement already satisfied: rpds-py>=0.7.1 in /home/davide/.local/lib/python3.8/site-packages (from jsonschema>=2.6->nbformat>=4.2.0->ipywidgets) (0.20.0)\r\n",
      "Requirement already satisfied: importlib-metadata>=4.8.3 in /home/davide/.local/lib/python3.8/site-packages (from jupyter-client>=6.1.12->ipykernel>=4.5.1->ipywidgets) (6.8.0)\r\n",
      "Requirement already satisfied: python-dateutil>=2.8.2 in /home/davide/.local/lib/python3.8/site-packages (from jupyter-client>=6.1.12->ipykernel>=4.5.1->ipywidgets) (2.9.0.post0)\r\n",
      "Requirement already satisfied: platformdirs>=2.5 in /home/davide/.local/lib/python3.8/site-packages (from jupyter-core!=5.0.*,>=4.12->ipykernel>=4.5.1->ipywidgets) (2.5.1)\r\n",
      "Requirement already satisfied: jupyter-server<3,>=2.4.0 in /home/davide/.local/lib/python3.8/site-packages (from notebook>=4.4.1->widgetsnbextension~=3.5.0->ipywidgets) (2.14.2)\r\n",
      "Requirement already satisfied: jupyterlab-server<3,>=2.27.1 in /home/davide/.local/lib/python3.8/site-packages (from notebook>=4.4.1->widgetsnbextension~=3.5.0->ipywidgets) (2.27.3)\r\n",
      "Requirement already satisfied: jupyterlab<4.3,>=4.2.0 in /home/davide/.local/lib/python3.8/site-packages (from notebook>=4.4.1->widgetsnbextension~=3.5.0->ipywidgets) (4.2.5)\r\n",
      "Requirement already satisfied: notebook-shim<0.3,>=0.2 in /home/davide/.local/lib/python3.8/site-packages (from notebook>=4.4.1->widgetsnbextension~=3.5.0->ipywidgets) (0.2.4)\r\n",
      "Requirement already satisfied: ptyprocess>=0.5 in /home/davide/.local/lib/python3.8/site-packages (from pexpect>4.3->ipython>=4.0.0->ipywidgets) (0.7.0)\r\n",
      "Requirement already satisfied: wcwidth in /usr/lib/python3/dist-packages (from prompt-toolkit!=3.0.37,<3.1.0,>=3.0.30->ipython>=4.0.0->ipywidgets) (0.1.8)\r\n",
      "Requirement already satisfied: executing>=1.2.0 in /home/davide/.local/lib/python3.8/site-packages (from stack-data->ipython>=4.0.0->ipywidgets) (2.1.0)\r\n",
      "Requirement already satisfied: asttokens>=2.1.0 in /home/davide/.local/lib/python3.8/site-packages (from stack-data->ipython>=4.0.0->ipywidgets) (2.4.1)\r\n",
      "Requirement already satisfied: pure-eval in /home/davide/.local/lib/python3.8/site-packages (from stack-data->ipython>=4.0.0->ipywidgets) (0.2.3)\r\n",
      "Requirement already satisfied: six>=1.12.0 in /home/davide/.local/lib/python3.8/site-packages (from asttokens>=2.1.0->stack-data->ipython>=4.0.0->ipywidgets) (1.16.0)\r\n"
     ]
    },
    {
     "name": "stdout",
     "output_type": "stream",
     "text": [
      "Requirement already satisfied: zipp>=0.5 in /home/davide/.local/lib/python3.8/site-packages (from importlib-metadata>=4.8.3->jupyter-client>=6.1.12->ipykernel>=4.5.1->ipywidgets) (3.7.0)\r\n",
      "Requirement already satisfied: anyio>=3.1.0 in /home/davide/.local/lib/python3.8/site-packages (from jupyter-server<3,>=2.4.0->notebook>=4.4.1->widgetsnbextension~=3.5.0->ipywidgets) (3.4.0)\r\n",
      "Requirement already satisfied: argon2-cffi>=21.1 in /home/davide/.local/lib/python3.8/site-packages (from jupyter-server<3,>=2.4.0->notebook>=4.4.1->widgetsnbextension~=3.5.0->ipywidgets) (21.1.0)\r\n",
      "Requirement already satisfied: jinja2>=3.0.3 in /home/davide/.local/lib/python3.8/site-packages (from jupyter-server<3,>=2.4.0->notebook>=4.4.1->widgetsnbextension~=3.5.0->ipywidgets) (3.0.3)\r\n",
      "Requirement already satisfied: jupyter-events>=0.9.0 in /home/davide/.local/lib/python3.8/site-packages (from jupyter-server<3,>=2.4.0->notebook>=4.4.1->widgetsnbextension~=3.5.0->ipywidgets) (0.10.0)\r\n",
      "Requirement already satisfied: jupyter-server-terminals>=0.4.4 in /home/davide/.local/lib/python3.8/site-packages (from jupyter-server<3,>=2.4.0->notebook>=4.4.1->widgetsnbextension~=3.5.0->ipywidgets) (0.5.3)\r\n",
      "Requirement already satisfied: nbconvert>=6.4.4 in /home/davide/.local/lib/python3.8/site-packages (from jupyter-server<3,>=2.4.0->notebook>=4.4.1->widgetsnbextension~=3.5.0->ipywidgets) (7.16.4)\r\n",
      "Requirement already satisfied: overrides>=5.0 in /home/davide/.local/lib/python3.8/site-packages (from jupyter-server<3,>=2.4.0->notebook>=4.4.1->widgetsnbextension~=3.5.0->ipywidgets) (7.7.0)\r\n",
      "Requirement already satisfied: prometheus-client>=0.9 in /home/davide/.local/lib/python3.8/site-packages (from jupyter-server<3,>=2.4.0->notebook>=4.4.1->widgetsnbextension~=3.5.0->ipywidgets) (0.11.0)\r\n",
      "Requirement already satisfied: send2trash>=1.8.2 in /home/davide/.local/lib/python3.8/site-packages (from jupyter-server<3,>=2.4.0->notebook>=4.4.1->widgetsnbextension~=3.5.0->ipywidgets) (1.8.3)\r\n",
      "Requirement already satisfied: terminado>=0.8.3 in /home/davide/.local/lib/python3.8/site-packages (from jupyter-server<3,>=2.4.0->notebook>=4.4.1->widgetsnbextension~=3.5.0->ipywidgets) (0.11.1)\r\n",
      "Requirement already satisfied: websocket-client>=1.7 in /home/davide/.local/lib/python3.8/site-packages (from jupyter-server<3,>=2.4.0->notebook>=4.4.1->widgetsnbextension~=3.5.0->ipywidgets) (1.8.0)\r\n",
      "Requirement already satisfied: async-lru>=1.0.0 in /home/davide/.local/lib/python3.8/site-packages (from jupyterlab<4.3,>=4.2.0->notebook>=4.4.1->widgetsnbextension~=3.5.0->ipywidgets) (2.0.4)\r\n",
      "Requirement already satisfied: httpx>=0.25.0 in /home/davide/.local/lib/python3.8/site-packages (from jupyterlab<4.3,>=4.2.0->notebook>=4.4.1->widgetsnbextension~=3.5.0->ipywidgets) (0.27.2)\r\n",
      "Requirement already satisfied: jupyter-lsp>=2.0.0 in /home/davide/.local/lib/python3.8/site-packages (from jupyterlab<4.3,>=4.2.0->notebook>=4.4.1->widgetsnbextension~=3.5.0->ipywidgets) (2.2.5)\r\n",
      "Requirement already satisfied: setuptools>=40.1.0 in /home/davide/.local/lib/python3.8/site-packages (from jupyterlab<4.3,>=4.2.0->notebook>=4.4.1->widgetsnbextension~=3.5.0->ipywidgets) (62.1.0)\r\n",
      "Requirement already satisfied: tomli>=1.2.2 in /home/davide/.local/lib/python3.8/site-packages (from jupyterlab<4.3,>=4.2.0->notebook>=4.4.1->widgetsnbextension~=3.5.0->ipywidgets) (1.2.2)\r\n",
      "Requirement already satisfied: babel>=2.10 in /home/davide/.local/lib/python3.8/site-packages (from jupyterlab-server<3,>=2.27.1->notebook>=4.4.1->widgetsnbextension~=3.5.0->ipywidgets) (2.16.0)\r\n",
      "Requirement already satisfied: json5>=0.9.0 in /home/davide/.local/lib/python3.8/site-packages (from jupyterlab-server<3,>=2.27.1->notebook>=4.4.1->widgetsnbextension~=3.5.0->ipywidgets) (0.9.6)\r\n"
     ]
    },
    {
     "name": "stdout",
     "output_type": "stream",
     "text": [
      "Requirement already satisfied: requests>=2.31 in /home/davide/.local/lib/python3.8/site-packages (from jupyterlab-server<3,>=2.27.1->notebook>=4.4.1->widgetsnbextension~=3.5.0->ipywidgets) (2.32.3)\r\n",
      "Requirement already satisfied: idna>=2.8 in /home/davide/.local/lib/python3.8/site-packages (from anyio>=3.1.0->jupyter-server<3,>=2.4.0->notebook>=4.4.1->widgetsnbextension~=3.5.0->ipywidgets) (2.10)\r\n",
      "Requirement already satisfied: sniffio>=1.1 in /home/davide/.local/lib/python3.8/site-packages (from anyio>=3.1.0->jupyter-server<3,>=2.4.0->notebook>=4.4.1->widgetsnbextension~=3.5.0->ipywidgets) (1.2.0)\r\n",
      "Requirement already satisfied: cffi>=1.0.0 in /home/davide/.local/lib/python3.8/site-packages (from argon2-cffi>=21.1->jupyter-server<3,>=2.4.0->notebook>=4.4.1->widgetsnbextension~=3.5.0->ipywidgets) (1.14.3)\r\n",
      "Requirement already satisfied: pytz>=2015.7 in /usr/lib/python3/dist-packages (from babel>=2.10->jupyterlab-server<3,>=2.27.1->notebook>=4.4.1->widgetsnbextension~=3.5.0->ipywidgets) (2019.3)\r\n",
      "Requirement already satisfied: certifi in /home/davide/.local/lib/python3.8/site-packages (from httpx>=0.25.0->jupyterlab<4.3,>=4.2.0->notebook>=4.4.1->widgetsnbextension~=3.5.0->ipywidgets) (2022.6.15)\r\n",
      "Requirement already satisfied: httpcore==1.* in /home/davide/.local/lib/python3.8/site-packages (from httpx>=0.25.0->jupyterlab<4.3,>=4.2.0->notebook>=4.4.1->widgetsnbextension~=3.5.0->ipywidgets) (1.0.6)\r\n",
      "Requirement already satisfied: h11<0.15,>=0.13 in /home/davide/.local/lib/python3.8/site-packages (from httpcore==1.*->httpx>=0.25.0->jupyterlab<4.3,>=4.2.0->notebook>=4.4.1->widgetsnbextension~=3.5.0->ipywidgets) (0.13.0)\r\n",
      "Requirement already satisfied: MarkupSafe>=2.0 in /home/davide/.local/lib/python3.8/site-packages (from jinja2>=3.0.3->jupyter-server<3,>=2.4.0->notebook>=4.4.1->widgetsnbextension~=3.5.0->ipywidgets) (2.0.1)\r\n",
      "Requirement already satisfied: python-json-logger>=2.0.4 in /home/davide/.local/lib/python3.8/site-packages (from jupyter-events>=0.9.0->jupyter-server<3,>=2.4.0->notebook>=4.4.1->widgetsnbextension~=3.5.0->ipywidgets) (2.0.7)\r\n",
      "Requirement already satisfied: pyyaml>=5.3 in /usr/lib/python3/dist-packages (from jupyter-events>=0.9.0->jupyter-server<3,>=2.4.0->notebook>=4.4.1->widgetsnbextension~=3.5.0->ipywidgets) (5.3.1)\r\n",
      "Requirement already satisfied: rfc3339-validator in /home/davide/.local/lib/python3.8/site-packages (from jupyter-events>=0.9.0->jupyter-server<3,>=2.4.0->notebook>=4.4.1->widgetsnbextension~=3.5.0->ipywidgets) (0.1.4)\r\n",
      "Requirement already satisfied: rfc3986-validator>=0.1.1 in /home/davide/.local/lib/python3.8/site-packages (from jupyter-events>=0.9.0->jupyter-server<3,>=2.4.0->notebook>=4.4.1->widgetsnbextension~=3.5.0->ipywidgets) (0.1.1)\r\n"
     ]
    },
    {
     "name": "stdout",
     "output_type": "stream",
     "text": [
      "Requirement already satisfied: beautifulsoup4 in /usr/lib/python3/dist-packages (from nbconvert>=6.4.4->jupyter-server<3,>=2.4.0->notebook>=4.4.1->widgetsnbextension~=3.5.0->ipywidgets) (4.8.2)\r\n",
      "Requirement already satisfied: bleach!=5.0.0 in /usr/lib/python3/dist-packages (from nbconvert>=6.4.4->jupyter-server<3,>=2.4.0->notebook>=4.4.1->widgetsnbextension~=3.5.0->ipywidgets) (3.1.1)\r\n",
      "Requirement already satisfied: defusedxml in /usr/lib/python3/dist-packages (from nbconvert>=6.4.4->jupyter-server<3,>=2.4.0->notebook>=4.4.1->widgetsnbextension~=3.5.0->ipywidgets) (0.6.0)\r\n",
      "Requirement already satisfied: jupyterlab-pygments in /home/davide/.local/lib/python3.8/site-packages (from nbconvert>=6.4.4->jupyter-server<3,>=2.4.0->notebook>=4.4.1->widgetsnbextension~=3.5.0->ipywidgets) (0.3.0)\r\n",
      "Requirement already satisfied: mistune<4,>=2.0.3 in /home/davide/.local/lib/python3.8/site-packages (from nbconvert>=6.4.4->jupyter-server<3,>=2.4.0->notebook>=4.4.1->widgetsnbextension~=3.5.0->ipywidgets) (3.0.2)\r\n",
      "Requirement already satisfied: nbclient>=0.5.0 in /home/davide/.local/lib/python3.8/site-packages (from nbconvert>=6.4.4->jupyter-server<3,>=2.4.0->notebook>=4.4.1->widgetsnbextension~=3.5.0->ipywidgets) (0.7.4)\r\n",
      "Requirement already satisfied: pandocfilters>=1.4.1 in /usr/lib/python3/dist-packages (from nbconvert>=6.4.4->jupyter-server<3,>=2.4.0->notebook>=4.4.1->widgetsnbextension~=3.5.0->ipywidgets) (1.4.2)\r\n",
      "Requirement already satisfied: tinycss2 in /home/davide/.local/lib/python3.8/site-packages (from nbconvert>=6.4.4->jupyter-server<3,>=2.4.0->notebook>=4.4.1->widgetsnbextension~=3.5.0->ipywidgets) (1.1.1)\r\n",
      "Requirement already satisfied: charset-normalizer<4,>=2 in /home/davide/.local/lib/python3.8/site-packages (from requests>=2.31->jupyterlab-server<3,>=2.27.1->notebook>=4.4.1->widgetsnbextension~=3.5.0->ipywidgets) (2.0.7)\r\n",
      "Requirement already satisfied: urllib3<3,>=1.21.1 in /home/davide/.local/lib/python3.8/site-packages (from requests>=2.31->jupyterlab-server<3,>=2.27.1->notebook>=4.4.1->widgetsnbextension~=3.5.0->ipywidgets) (1.26.8)\r\n",
      "Requirement already satisfied: pycparser in /home/davide/.local/lib/python3.8/site-packages (from cffi>=1.0.0->argon2-cffi>=21.1->jupyter-server<3,>=2.4.0->notebook>=4.4.1->widgetsnbextension~=3.5.0->ipywidgets) (2.20)\r\n",
      "Requirement already satisfied: fqdn in /home/davide/.local/lib/python3.8/site-packages (from jsonschema[format-nongpl]>=4.18.0->jupyter-events>=0.9.0->jupyter-server<3,>=2.4.0->notebook>=4.4.1->widgetsnbextension~=3.5.0->ipywidgets) (1.5.1)\r\n",
      "Requirement already satisfied: isoduration in /home/davide/.local/lib/python3.8/site-packages (from jsonschema[format-nongpl]>=4.18.0->jupyter-events>=0.9.0->jupyter-server<3,>=2.4.0->notebook>=4.4.1->widgetsnbextension~=3.5.0->ipywidgets) (20.11.0)\r\n",
      "Requirement already satisfied: jsonpointer>1.13 in /home/davide/.local/lib/python3.8/site-packages (from jsonschema[format-nongpl]>=4.18.0->jupyter-events>=0.9.0->jupyter-server<3,>=2.4.0->notebook>=4.4.1->widgetsnbextension~=3.5.0->ipywidgets) (3.0.0)\r\n",
      "Requirement already satisfied: uri-template in /home/davide/.local/lib/python3.8/site-packages (from jsonschema[format-nongpl]>=4.18.0->jupyter-events>=0.9.0->jupyter-server<3,>=2.4.0->notebook>=4.4.1->widgetsnbextension~=3.5.0->ipywidgets) (1.3.0)\r\n",
      "Requirement already satisfied: webcolors>=24.6.0 in /home/davide/.local/lib/python3.8/site-packages (from jsonschema[format-nongpl]>=4.18.0->jupyter-events>=0.9.0->jupyter-server<3,>=2.4.0->notebook>=4.4.1->widgetsnbextension~=3.5.0->ipywidgets) (24.8.0)\r\n"
     ]
    },
    {
     "name": "stdout",
     "output_type": "stream",
     "text": [
      "Requirement already satisfied: webencodings>=0.4 in /usr/lib/python3/dist-packages (from tinycss2->nbconvert>=6.4.4->jupyter-server<3,>=2.4.0->notebook>=4.4.1->widgetsnbextension~=3.5.0->ipywidgets) (0.5.1)\r\n",
      "Requirement already satisfied: arrow>=0.15.0 in /home/davide/.local/lib/python3.8/site-packages (from isoduration->jsonschema[format-nongpl]>=4.18.0->jupyter-events>=0.9.0->jupyter-server<3,>=2.4.0->notebook>=4.4.1->widgetsnbextension~=3.5.0->ipywidgets) (1.3.0)\r\n",
      "Requirement already satisfied: types-python-dateutil>=2.8.10 in /home/davide/.local/lib/python3.8/site-packages (from arrow>=0.15.0->isoduration->jsonschema[format-nongpl]>=4.18.0->jupyter-events>=0.9.0->jupyter-server<3,>=2.4.0->notebook>=4.4.1->widgetsnbextension~=3.5.0->ipywidgets) (2.9.0.20241003)\r\n"
     ]
    },
    {
     "name": "stdout",
     "output_type": "stream",
     "text": [
      "\u001b[33mWARNING: Error parsing dependencies of arcgis: .* suffix can only be used with `==` or `!=` operators\r\n",
      "    keyring (<=21.8.*,>=19)\r\n",
      "             ~~~~~~~^\u001b[0m\u001b[33m\r\n",
      "\u001b[0m"
     ]
    },
    {
     "name": "stdout",
     "output_type": "stream",
     "text": [
      "\u001b[33mWARNING: Error parsing dependencies of quilt3: Expected matching RIGHT_PARENTHESIS for LEFT_PARENTHESIS, after version specifier\r\n",
      "    urllib3 (<1.26,>=1.25.4numpy>=1.14.0) ; extra == 'tests'\r\n",
      "            ~~~~~~~~~~~~~~~^\u001b[0m\u001b[33m\r\n",
      "\u001b[0m"
     ]
    },
    {
     "name": "stdout",
     "output_type": "stream",
     "text": [
      "\u001b[33mWARNING: Error parsing dependencies of distro-info: Invalid version: '0.23ubuntu1'\u001b[0m\u001b[33m\r\n",
      "\u001b[0m\u001b[33mWARNING: Error parsing dependencies of python-debian: Invalid version: '0.1.36ubuntu1'\u001b[0m\u001b[33m\r\n",
      "\u001b[0m"
     ]
    },
    {
     "name": "stdout",
     "output_type": "stream",
     "text": [
      "Note: you may need to restart the kernel to use updated packages.\n"
     ]
    },
    {
     "name": "stdout",
     "output_type": "stream",
     "text": [
      "Defaulting to user installation because normal site-packages is not writeable\r\n"
     ]
    },
    {
     "name": "stdout",
     "output_type": "stream",
     "text": [
      "Requirement already satisfied: jupyterlab_widgets in /home/davide/.local/lib/python3.8/site-packages (1.0.1)\r\n"
     ]
    },
    {
     "name": "stdout",
     "output_type": "stream",
     "text": [
      "\u001b[33mWARNING: Error parsing dependencies of arcgis: .* suffix can only be used with `==` or `!=` operators\r\n",
      "    keyring (<=21.8.*,>=19)\r\n",
      "             ~~~~~~~^\u001b[0m\u001b[33m\r\n",
      "\u001b[0m"
     ]
    },
    {
     "name": "stdout",
     "output_type": "stream",
     "text": [
      "\u001b[33mWARNING: Error parsing dependencies of quilt3: Expected matching RIGHT_PARENTHESIS for LEFT_PARENTHESIS, after version specifier\r\n",
      "    urllib3 (<1.26,>=1.25.4numpy>=1.14.0) ; extra == 'tests'\r\n",
      "            ~~~~~~~~~~~~~~~^\u001b[0m\u001b[33m\r\n",
      "\u001b[0m"
     ]
    },
    {
     "name": "stdout",
     "output_type": "stream",
     "text": [
      "\u001b[33mWARNING: Error parsing dependencies of distro-info: Invalid version: '0.23ubuntu1'\u001b[0m\u001b[33m\r\n",
      "\u001b[0m\u001b[33mWARNING: Error parsing dependencies of python-debian: Invalid version: '0.1.36ubuntu1'\u001b[0m\u001b[33m\r\n",
      "\u001b[0m"
     ]
    },
    {
     "name": "stdout",
     "output_type": "stream",
     "text": [
      "Note: you may need to restart the kernel to use updated packages.\n"
     ]
    }
   ],
   "source": [
    "%pip install ipyleaflet\n",
    "%pip install ipywidgets\n",
    "%pip install jupyterlab_widgets\n",
    "\n",
    "# %jupyter nbextension enable --py widgetsnbextension\n",
    "# %jupyter nbextension enable --py ipyleaflet"
   ]
  },
  {
   "cell_type": "markdown",
   "id": "d047cef8-610d-4210-b979-86d4d681b9ec",
   "metadata": {
    "editable": true,
    "slideshow": {
     "slide_type": ""
    },
    "tags": []
   },
   "source": [
    "### Carta semplice"
   ]
  },
  {
   "cell_type": "code",
   "execution_count": 2,
   "id": "5c0d32d9-7848-450d-8d4c-379e902b8c7d",
   "metadata": {
    "editable": true,
    "slideshow": {
     "slide_type": ""
    },
    "tags": [
     "hide-input"
    ]
   },
   "outputs": [
    {
     "data": {
      "application/vnd.jupyter.widget-view+json": {
       "model_id": "7dc08737f527497790ee8d081d250423",
       "version_major": 2,
       "version_minor": 0
      },
      "text/plain": [
       "VBox(children=(Map(center=[45.0, 10.0], controls=(ZoomControl(options=['position', 'zoom_in_text', 'zoom_in_ti…"
      ]
     },
     "metadata": {},
     "output_type": "display_data"
    }
   ],
   "source": [
    "# from ipyleaflet import Map\n",
    "import ipyleaflet as ll\n",
    "from ipywidgets import Button, VBox\n",
    "\n",
    "from IPython.display import FileLink\n",
    "\n",
    "#> ------------------------------------------------------------------\n",
    "#> Map\n",
    "m = ll.Map(center=(45.0, 10.0), zoom=5)  # , basemap=...\n",
    "\n",
    "#> ------------------------------------------------------------------\n",
    "#> Layers\n",
    "\n",
    "#> ------------------------------------------------------------------\n",
    "#> Controls\n",
    "#> Scale\n",
    "m.add(ll.ScaleControl(position='bottomleft'))\n",
    "#> Full screen\n",
    "m.add(ll.FullScreenControl())\n",
    "#> Measure\n",
    "m.add(ll.MeasureControl(position='bottomleft', active_color='orange', primary_length_unit='kilometers'))\n",
    "#> Split map, with a slider\n",
    "#> Draw, GeomanDrawControl\n",
    "draw_control = ll.GeomanDrawControl()\n",
    "#> Legend\n",
    "#> Search\n",
    "\n",
    "\n",
    "\n",
    "# Store drawn data\n",
    "drawn_features = []\n",
    "\n",
    "# Capture new feature additions\n",
    "def handle_draw(action, geo_json):\n",
    "    if action == 'created':\n",
    "        drawn_features.append(geo_json)\n",
    "        print(f\"Added new feature: {geo_json['geometry']}\")\n",
    "\n",
    "draw_control.on_draw(handle_draw)\n",
    "m.add_control(draw_control)\n",
    "\n",
    "# Add Download Button\n",
    "download_button = Button(description=\"Download Features\")\n",
    "\n",
    "def download_geojson(_):\n",
    "    # Save the drawn features to a GeoJSON file\n",
    "    geojson_data = {\n",
    "        \"type\": \"FeatureCollection\",\n",
    "        \"features\": drawn_features\n",
    "    }\n",
    "    file_path = \"drawn_features.geojson\"\n",
    "    with open(file_path, \"w\") as f:\n",
    "        json.dump(geojson_data, f)\n",
    "        \n",
    "    print(f\"Features saved to {file_path}\")\n",
    "    display(FileLink(file_path))\n",
    "\n",
    "download_button.on_click(download_geojson)\n",
    "# download_button.on_click(lambda _: display(FileLink(download_geojson)))\n",
    "\n",
    "# Display Map and Button\n",
    "VBox([m, download_button])\n",
    "\n",
    "\n",
    "# m"
   ]
  },
  {
   "cell_type": "code",
   "execution_count": 3,
   "id": "20ab52e6-fa29-47de-b30f-4e859ba1f79c",
   "metadata": {},
   "outputs": [
    {
     "name": "stdout",
     "output_type": "stream",
     "text": [
      "cwd: /home/davide/Documents/basics-books/books/bbooks-insights/ch\n"
     ]
    }
   ],
   "source": [
    "import os\n",
    "print(f\"cwd: {os.getcwd()}\")"
   ]
  },
  {
   "cell_type": "markdown",
   "id": "1df0aa38-d1dc-4cf3-80eb-bb6a2f429804",
   "metadata": {
    "editable": true,
    "slideshow": {
     "slide_type": ""
    },
    "tags": []
   },
   "source": [
    "### Carta con qualche dettaglio e interattività"
   ]
  },
  {
   "cell_type": "code",
   "execution_count": 4,
   "id": "90fbc880-3495-45a3-bc9a-997c8642b70b",
   "metadata": {
    "editable": true,
    "slideshow": {
     "slide_type": ""
    },
    "tags": [
     "hide-input"
    ]
   },
   "outputs": [
    {
     "data": {
      "application/vnd.jupyter.widget-view+json": {
       "model_id": "b3b936cf1b2f4c6ba039f05eebb2c729",
       "version_major": 2,
       "version_minor": 0
      },
      "text/plain": [
       "Map(center=[45, 10], controls=(ZoomControl(options=['position', 'zoom_in_text', 'zoom_in_title', 'zoom_out_tex…"
      ]
     },
     "metadata": {},
     "output_type": "display_data"
    }
   ],
   "source": [
    "\n",
    "from ipyleaflet import (\n",
    "    Map, GeoJSON, LayerGroup, WidgetControl\n",
    ")\n",
    "from ipywidgets import IntSlider, VBox, HTML\n",
    "import json\n",
    "\n",
    "\n",
    "# Load GeoJSON data (replace with real historical boundary data)\n",
    "# Here we use dummy data, you need to replace these with actual files for Italy and France boundaries over time\n",
    "def load_geojson(country, year):\n",
    "    # This function simulates loading GeoJSON files\n",
    "    # Replace it with paths to actual files or GeoJSON objects\n",
    "    return {\n",
    "        \"type\": \"FeatureCollection\",\n",
    "        \"features\": [\n",
    "            {\n",
    "                \"type\": \"Feature\",\n",
    "                \"geometry\": {\n",
    "                    \"type\": \"Polygon\",\n",
    "                    \"coordinates\": [\n",
    "                        [\n",
    "                            [2.0, 47.0], [7.0, 47.0], [7.0, 42.0], [2.0, 42.0], [2.0, 47.0]\n",
    "                        ] if country == \"France\" else\n",
    "                        [[8.0, 46.0], [14.0, 46.0], [14.0, 40.0], [8.0, 40.0], [8.0, 46.0]]\n",
    "                    ],\n",
    "                },\n",
    "                \"properties\": {\n",
    "                    \"country\": country,\n",
    "                    \"year\": year\n",
    "                }\n",
    "            }\n",
    "        ]\n",
    "    }\n",
    "\n",
    "# Map Initialization\n",
    "m = Map(center=(45, 10), zoom=5)\n",
    "\n",
    "# Slider for Year\n",
    "year_slider = IntSlider(value=1800, min=1800, max=1950, step=10, description='Year:')\n",
    "\n",
    "# Layer Groups for Countries\n",
    "italy_layer_group = LayerGroup(name=\"Italy\")\n",
    "france_layer_group = LayerGroup(name=\"France\")\n",
    "\n",
    "# Function to Update Layers Based on Year\n",
    "def update_layers(change):\n",
    "    year = change['new']\n",
    "    italy_layer_group.clear_layers()\n",
    "    france_layer_group.clear_layers()\n",
    "\n",
    "    italy_data = load_geojson(\"Italy\", year)\n",
    "    france_data = load_geojson(\"France\", year)\n",
    "\n",
    "    italy_geojson = GeoJSON(data=italy_data, style={'color': 'green', 'opacity': 0.6, 'weight': 1.5})\n",
    "    france_geojson = GeoJSON(data=france_data, style={'color': 'blue', 'opacity': 0.6, 'weight': 1.5})\n",
    "\n",
    "    italy_layer_group.add_layer(italy_geojson)\n",
    "    france_layer_group.add_layer(france_geojson)\n",
    "\n",
    "# Initial Layer Update\n",
    "update_layers({'new': year_slider.value})\n",
    "\n",
    "# Attach Slider Event\n",
    "year_slider.observe(update_layers, 'value')\n",
    "\n",
    "# Add Layers to the Map\n",
    "m.add_layer(italy_layer_group)\n",
    "m.add_layer(france_layer_group)\n",
    "\n",
    "# Add Controls to the Map\n",
    "m.add_control(WidgetControl(widget=year_slider, position='topright'))\n",
    "\n",
    "# Display Map\n",
    "m\n"
   ]
  }
 ],
 "metadata": {
  "kernelspec": {
   "display_name": "Python 3 (ipykernel)",
   "language": "python",
   "name": "python3"
  },
  "language_info": {
   "codemirror_mode": {
    "name": "ipython",
    "version": 3
   },
   "file_extension": ".py",
   "mimetype": "text/x-python",
   "name": "python",
   "nbconvert_exporter": "python",
   "pygments_lexer": "ipython3",
   "version": "3.8.10"
  },
  "widgets": {
   "application/vnd.jupyter.widget-state+json": {
    "state": {
     "085e1ba31a6243a5924beec390b188d5": {
      "model_module": "jupyter-leaflet",
      "model_module_version": "^0.19",
      "model_name": "LeafletTileLayerModel",
      "state": {
       "_model_module": "jupyter-leaflet",
       "_model_module_version": "^0.19",
       "_model_name": "LeafletTileLayerModel",
       "_view_count": null,
       "_view_module": "jupyter-leaflet",
       "_view_module_version": "^0.19",
       "_view_name": "LeafletTileLayerView",
       "attribution": "&copy; <a href=\"https://www.openstreetmap.org/copyright\">OpenStreetMap</a> contributors",
       "base": true,
       "bottom": true,
       "bounds": null,
       "detect_retina": false,
       "loading": false,
       "max_native_zoom": null,
       "max_zoom": 19,
       "min_native_zoom": null,
       "min_zoom": 1,
       "name": "OpenStreetMap.Mapnik",
       "no_wrap": false,
       "opacity": 1.0,
       "options": [
        "attribution",
        "bounds",
        "detect_retina",
        "max_native_zoom",
        "max_zoom",
        "min_native_zoom",
        "min_zoom",
        "no_wrap",
        "tile_size",
        "tms",
        "zoom_offset"
       ],
       "pane": "",
       "popup": null,
       "popup_max_height": null,
       "popup_max_width": 300,
       "popup_min_width": 50,
       "show_loading": false,
       "subitems": [],
       "tile_size": 256,
       "tms": false,
       "url": "https://a.tile.openstreetmap.org/{z}/{x}/{y}.png",
       "visible": true,
       "zoom_offset": 0
      }
     },
     "0b51d1e9a2b24d7882deb3ef2f4b8604": {
      "model_module": "jupyter-leaflet",
      "model_module_version": "^0.19",
      "model_name": "LeafletZoomControlModel",
      "state": {
       "_model_module": "jupyter-leaflet",
       "_model_module_version": "^0.19",
       "_model_name": "LeafletZoomControlModel",
       "_view_count": null,
       "_view_module": "jupyter-leaflet",
       "_view_module_version": "^0.19",
       "_view_name": "LeafletZoomControlView",
       "options": [
        "position",
        "zoom_in_text",
        "zoom_in_title",
        "zoom_out_text",
        "zoom_out_title"
       ],
       "position": "topleft",
       "zoom_in_text": "+",
       "zoom_in_title": "Zoom in",
       "zoom_out_text": "-",
       "zoom_out_title": "Zoom out"
      }
     },
     "1615fd7417384025b410adbadf231775": {
      "model_module": "@jupyter-widgets/controls",
      "model_module_version": "1.5.0",
      "model_name": "ButtonStyleModel",
      "state": {
       "_model_module": "@jupyter-widgets/controls",
       "_model_module_version": "1.5.0",
       "_model_name": "ButtonStyleModel",
       "_view_count": null,
       "_view_module": "@jupyter-widgets/base",
       "_view_module_version": "1.2.0",
       "_view_name": "StyleView",
       "button_color": null,
       "font_weight": ""
      }
     },
     "193b9a68658746b28b5b1c5dffb4391a": {
      "model_module": "jupyter-leaflet",
      "model_module_version": "^0.19",
      "model_name": "LeafletWidgetControlModel",
      "state": {
       "_model_module": "jupyter-leaflet",
       "_model_module_version": "^0.19",
       "_model_name": "LeafletWidgetControlModel",
       "_view_count": null,
       "_view_module": "jupyter-leaflet",
       "_view_module_version": "^0.19",
       "_view_name": "LeafletWidgetControlView",
       "max_height": null,
       "max_width": null,
       "min_height": null,
       "min_width": null,
       "options": [
        "position",
        "transparent_bg"
       ],
       "position": "topright",
       "transparent_bg": false,
       "widget": "IPY_MODEL_9c4ace3f4f104cf8b9168b6d3e610855"
      }
     },
     "22fbe4e5e5a143e4a5a81e3da113bef7": {
      "model_module": "jupyter-leaflet",
      "model_module_version": "^0.19",
      "model_name": "LeafletLayerGroupModel",
      "state": {
       "_model_module": "jupyter-leaflet",
       "_model_module_version": "^0.19",
       "_model_name": "LeafletLayerGroupModel",
       "_view_count": null,
       "_view_module": "jupyter-leaflet",
       "_view_module_version": "^0.19",
       "_view_name": "LeafletLayerGroupView",
       "base": false,
       "bottom": false,
       "layers": [
        "IPY_MODEL_9540599c0e3f4117b1140304ce8598eb"
       ],
       "name": "Italy",
       "options": [],
       "pane": "",
       "popup": null,
       "popup_max_height": null,
       "popup_max_width": 300,
       "popup_min_width": 50,
       "subitems": []
      }
     },
     "2c803048e1714fdea078757a1d9411b6": {
      "model_module": "@jupyter-widgets/controls",
      "model_module_version": "1.5.0",
      "model_name": "SliderStyleModel",
      "state": {
       "_model_module": "@jupyter-widgets/controls",
       "_model_module_version": "1.5.0",
       "_model_name": "SliderStyleModel",
       "_view_count": null,
       "_view_module": "@jupyter-widgets/base",
       "_view_module_version": "1.2.0",
       "_view_name": "StyleView",
       "description_width": "",
       "handle_color": null
      }
     },
     "2cf2cc23165142f2b4d95982c7dccdec": {
      "model_module": "jupyter-leaflet",
      "model_module_version": "^0.19",
      "model_name": "LeafletMapStyleModel",
      "state": {
       "_model_module": "jupyter-leaflet",
       "_model_module_version": "^0.19",
       "_model_name": "LeafletMapStyleModel",
       "_view_count": null,
       "_view_module": "@jupyter-widgets/base",
       "_view_module_version": "1.2.0",
       "_view_name": "StyleView",
       "cursor": "grab"
      }
     },
     "42cefcac26ac475f829be88b4b487c46": {
      "model_module": "jupyter-leaflet",
      "model_module_version": "^0.19",
      "model_name": "LeafletZoomControlModel",
      "state": {
       "_model_module": "jupyter-leaflet",
       "_model_module_version": "^0.19",
       "_model_name": "LeafletZoomControlModel",
       "_view_count": null,
       "_view_module": "jupyter-leaflet",
       "_view_module_version": "^0.19",
       "_view_name": "LeafletZoomControlView",
       "options": [
        "position",
        "zoom_in_text",
        "zoom_in_title",
        "zoom_out_text",
        "zoom_out_title"
       ],
       "position": "topleft",
       "zoom_in_text": "+",
       "zoom_in_title": "Zoom in",
       "zoom_out_text": "-",
       "zoom_out_title": "Zoom out"
      }
     },
     "61a749f344054e708e49aabcdb86884d": {
      "model_module": "jupyter-leaflet",
      "model_module_version": "^0.19",
      "model_name": "LeafletMeasureControlModel",
      "state": {
       "_custom_units": {},
       "_model_module": "jupyter-leaflet",
       "_model_module_version": "^0.19",
       "_model_name": "LeafletMeasureControlModel",
       "_view_count": null,
       "_view_module": "jupyter-leaflet",
       "_view_module_version": "^0.19",
       "_view_name": "LeafletMeasureControlView",
       "active_color": "orange",
       "capture_z_index": 10000,
       "completed_color": "#C8F2BE",
       "options": [
        "active_color",
        "capture_z_index",
        "completed_color",
        "popup_options",
        "position",
        "primary_area_unit",
        "primary_length_unit",
        "secondary_area_unit",
        "secondary_length_unit"
       ],
       "popup_options": {
        "autoPanPadding": [
         10,
         10
        ],
        "className": "leaflet-measure-resultpopup"
       },
       "position": "bottomleft",
       "primary_area_unit": "acres",
       "primary_length_unit": "kilometers",
       "secondary_area_unit": null,
       "secondary_length_unit": null
      }
     },
     "630b1b179f324e4a91e4394a8f669c2b": {
      "model_module": "@jupyter-widgets/base",
      "model_module_version": "1.2.0",
      "model_name": "LayoutModel",
      "state": {
       "_model_module": "@jupyter-widgets/base",
       "_model_module_version": "1.2.0",
       "_model_name": "LayoutModel",
       "_view_count": null,
       "_view_module": "@jupyter-widgets/base",
       "_view_module_version": "1.2.0",
       "_view_name": "LayoutView",
       "align_content": null,
       "align_items": null,
       "align_self": null,
       "border": null,
       "bottom": null,
       "display": null,
       "flex": null,
       "flex_flow": null,
       "grid_area": null,
       "grid_auto_columns": null,
       "grid_auto_flow": null,
       "grid_auto_rows": null,
       "grid_column": null,
       "grid_gap": null,
       "grid_row": null,
       "grid_template_areas": null,
       "grid_template_columns": null,
       "grid_template_rows": null,
       "height": null,
       "justify_content": null,
       "justify_items": null,
       "left": null,
       "margin": null,
       "max_height": null,
       "max_width": null,
       "min_height": null,
       "min_width": null,
       "object_fit": null,
       "object_position": null,
       "order": null,
       "overflow": null,
       "overflow_x": null,
       "overflow_y": null,
       "padding": null,
       "right": null,
       "top": null,
       "visibility": null,
       "width": null
      }
     },
     "7301eef496cf4a4da5c3bcae81b75630": {
      "model_module": "@jupyter-widgets/base",
      "model_module_version": "1.2.0",
      "model_name": "LayoutModel",
      "state": {
       "_model_module": "@jupyter-widgets/base",
       "_model_module_version": "1.2.0",
       "_model_name": "LayoutModel",
       "_view_count": null,
       "_view_module": "@jupyter-widgets/base",
       "_view_module_version": "1.2.0",
       "_view_name": "LayoutView",
       "align_content": null,
       "align_items": null,
       "align_self": null,
       "border": null,
       "bottom": null,
       "display": null,
       "flex": null,
       "flex_flow": null,
       "grid_area": null,
       "grid_auto_columns": null,
       "grid_auto_flow": null,
       "grid_auto_rows": null,
       "grid_column": null,
       "grid_gap": null,
       "grid_row": null,
       "grid_template_areas": null,
       "grid_template_columns": null,
       "grid_template_rows": null,
       "height": null,
       "justify_content": null,
       "justify_items": null,
       "left": null,
       "margin": null,
       "max_height": null,
       "max_width": null,
       "min_height": null,
       "min_width": null,
       "object_fit": null,
       "object_position": null,
       "order": null,
       "overflow": null,
       "overflow_x": null,
       "overflow_y": null,
       "padding": null,
       "right": null,
       "top": null,
       "visibility": null,
       "width": null
      }
     },
     "743ad74306d74758b216b0cad157d440": {
      "model_module": "jupyter-leaflet",
      "model_module_version": "^0.19",
      "model_name": "LeafletScaleControlModel",
      "state": {
       "_model_module": "jupyter-leaflet",
       "_model_module_version": "^0.19",
       "_model_name": "LeafletScaleControlModel",
       "_view_count": null,
       "_view_module": "jupyter-leaflet",
       "_view_module_version": "^0.19",
       "_view_name": "LeafletScaleControlView",
       "imperial": true,
       "max_width": 100,
       "metric": true,
       "options": [
        "imperial",
        "max_width",
        "metric",
        "position",
        "update_when_idle"
       ],
       "position": "bottomleft",
       "update_when_idle": false
      }
     },
     "767dcecb58b046409b5d52453df9a23e": {
      "model_module": "@jupyter-widgets/base",
      "model_module_version": "1.2.0",
      "model_name": "LayoutModel",
      "state": {
       "_model_module": "@jupyter-widgets/base",
       "_model_module_version": "1.2.0",
       "_model_name": "LayoutModel",
       "_view_count": null,
       "_view_module": "@jupyter-widgets/base",
       "_view_module_version": "1.2.0",
       "_view_name": "LayoutView",
       "align_content": null,
       "align_items": null,
       "align_self": null,
       "border": null,
       "bottom": null,
       "display": null,
       "flex": null,
       "flex_flow": null,
       "grid_area": null,
       "grid_auto_columns": null,
       "grid_auto_flow": null,
       "grid_auto_rows": null,
       "grid_column": null,
       "grid_gap": null,
       "grid_row": null,
       "grid_template_areas": null,
       "grid_template_columns": null,
       "grid_template_rows": null,
       "height": null,
       "justify_content": null,
       "justify_items": null,
       "left": null,
       "margin": null,
       "max_height": null,
       "max_width": null,
       "min_height": null,
       "min_width": null,
       "object_fit": null,
       "object_position": null,
       "order": null,
       "overflow": null,
       "overflow_x": null,
       "overflow_y": null,
       "padding": null,
       "right": null,
       "top": null,
       "visibility": null,
       "width": null
      }
     },
     "7ab26654640347cea5fcfdf71c3ec6f1": {
      "model_module": "jupyter-leaflet",
      "model_module_version": "^0.19",
      "model_name": "LeafletMapStyleModel",
      "state": {
       "_model_module": "jupyter-leaflet",
       "_model_module_version": "^0.19",
       "_model_name": "LeafletMapStyleModel",
       "_view_count": null,
       "_view_module": "@jupyter-widgets/base",
       "_view_module_version": "1.2.0",
       "_view_name": "StyleView",
       "cursor": "grab"
      }
     },
     "7dc08737f527497790ee8d081d250423": {
      "model_module": "@jupyter-widgets/controls",
      "model_module_version": "1.5.0",
      "model_name": "VBoxModel",
      "state": {
       "_dom_classes": [],
       "_model_module": "@jupyter-widgets/controls",
       "_model_module_version": "1.5.0",
       "_model_name": "VBoxModel",
       "_view_count": null,
       "_view_module": "@jupyter-widgets/controls",
       "_view_module_version": "1.5.0",
       "_view_name": "VBoxView",
       "box_style": "",
       "children": [
        "IPY_MODEL_c345e4c250dc4a41aae382e6d0756029",
        "IPY_MODEL_81509eac08d24f709a56cd0bfb0b07e7"
       ],
       "layout": "IPY_MODEL_767dcecb58b046409b5d52453df9a23e"
      }
     },
     "81509eac08d24f709a56cd0bfb0b07e7": {
      "model_module": "@jupyter-widgets/controls",
      "model_module_version": "1.5.0",
      "model_name": "ButtonModel",
      "state": {
       "_dom_classes": [],
       "_model_module": "@jupyter-widgets/controls",
       "_model_module_version": "1.5.0",
       "_model_name": "ButtonModel",
       "_view_count": null,
       "_view_module": "@jupyter-widgets/controls",
       "_view_module_version": "1.5.0",
       "_view_name": "ButtonView",
       "button_style": "",
       "description": "Download Features",
       "disabled": false,
       "icon": "",
       "layout": "IPY_MODEL_7301eef496cf4a4da5c3bcae81b75630",
       "style": "IPY_MODEL_1615fd7417384025b410adbadf231775",
       "tooltip": ""
      }
     },
     "8efcc9ccdb0f47c9a1b1dd70698f9a7f": {
      "model_module": "jupyter-leaflet",
      "model_module_version": "^0.19",
      "model_name": "LeafletMapStyleModel",
      "state": {
       "_model_module": "jupyter-leaflet",
       "_model_module_version": "^0.19",
       "_model_name": "LeafletMapStyleModel",
       "_view_count": null,
       "_view_module": "@jupyter-widgets/base",
       "_view_module_version": "1.2.0",
       "_view_name": "StyleView",
       "cursor": "move"
      }
     },
     "9199576613ff4da1a704ae4d24c11618": {
      "model_module": "jupyter-leaflet",
      "model_module_version": "^0.19",
      "model_name": "LeafletGeomanDrawControlModel",
      "state": {
       "_model_module": "jupyter-leaflet",
       "_model_module_version": "^0.19",
       "_model_name": "LeafletGeomanDrawControlModel",
       "_view_count": null,
       "_view_module": "jupyter-leaflet",
       "_view_module_version": "^0.19",
       "_view_name": "LeafletGeomanDrawControlView",
       "circle": {},
       "circlemarker": {
        "pathOptions": {}
       },
       "current_mode": null,
       "cut": true,
       "data": [],
       "drag": true,
       "edit": true,
       "hide_controls": false,
       "marker": {},
       "options": [
        "position"
       ],
       "polygon": {
        "pathOptions": {}
       },
       "polyline": {
        "pathOptions": {}
       },
       "position": "topleft",
       "rectangle": {},
       "remove": true,
       "rotate": true,
       "text": {}
      }
     },
     "92d5a21bb0c941859a4c98f681bcb450": {
      "model_module": "jupyter-leaflet",
      "model_module_version": "^0.19",
      "model_name": "LeafletMapStyleModel",
      "state": {
       "_model_module": "jupyter-leaflet",
       "_model_module_version": "^0.19",
       "_model_name": "LeafletMapStyleModel",
       "_view_count": null,
       "_view_module": "@jupyter-widgets/base",
       "_view_module_version": "1.2.0",
       "_view_name": "StyleView",
       "cursor": "grab"
      }
     },
     "9540599c0e3f4117b1140304ce8598eb": {
      "model_module": "jupyter-leaflet",
      "model_module_version": "^0.19",
      "model_name": "LeafletGeoJSONModel",
      "state": {
       "_model_module": "jupyter-leaflet",
       "_model_module_version": "^0.19",
       "_model_name": "LeafletGeoJSONModel",
       "_view_count": null,
       "_view_module": "jupyter-leaflet",
       "_view_module_version": "^0.19",
       "_view_name": "LeafletGeoJSONView",
       "base": false,
       "bottom": false,
       "data": {
        "features": [
         {
          "geometry": {
           "coordinates": [
            [
             [
              8.0,
              46.0
             ],
             [
              14.0,
              46.0
             ],
             [
              14.0,
              40.0
             ],
             [
              8.0,
              40.0
             ],
             [
              8.0,
              46.0
             ]
            ]
           ],
           "type": "Polygon"
          },
          "properties": {
           "country": "Italy",
           "style": {
            "color": "green",
            "opacity": 0.6,
            "weight": 1.5
           },
           "year": 1800
          },
          "type": "Feature"
         }
        ],
        "type": "FeatureCollection"
       },
       "hover_style": {},
       "layers": [],
       "name": "",
       "options": [],
       "pane": "",
       "point_style": {},
       "popup": null,
       "popup_max_height": null,
       "popup_max_width": 300,
       "popup_min_width": 50,
       "style": {
        "color": "green",
        "opacity": 0.6,
        "weight": 1.5
       },
       "subitems": [],
       "visible": true
      }
     },
     "9c4ace3f4f104cf8b9168b6d3e610855": {
      "model_module": "@jupyter-widgets/controls",
      "model_module_version": "1.5.0",
      "model_name": "IntSliderModel",
      "state": {
       "_dom_classes": [],
       "_model_module": "@jupyter-widgets/controls",
       "_model_module_version": "1.5.0",
       "_model_name": "IntSliderModel",
       "_view_count": null,
       "_view_module": "@jupyter-widgets/controls",
       "_view_module_version": "1.5.0",
       "_view_name": "IntSliderView",
       "continuous_update": true,
       "description": "Year:",
       "description_tooltip": null,
       "disabled": false,
       "layout": "IPY_MODEL_d2313c035a1348eda3fcfc99b314b128",
       "max": 1950,
       "min": 1800,
       "orientation": "horizontal",
       "readout": true,
       "readout_format": "d",
       "step": 10,
       "style": "IPY_MODEL_2c803048e1714fdea078757a1d9411b6",
       "value": 1800
      }
     },
     "aaf6baba19f441ecb837d375ee9c2005": {
      "model_module": "jupyter-leaflet",
      "model_module_version": "^0.19",
      "model_name": "LeafletLayerGroupModel",
      "state": {
       "_model_module": "jupyter-leaflet",
       "_model_module_version": "^0.19",
       "_model_name": "LeafletLayerGroupModel",
       "_view_count": null,
       "_view_module": "jupyter-leaflet",
       "_view_module_version": "^0.19",
       "_view_name": "LeafletLayerGroupView",
       "base": false,
       "bottom": false,
       "layers": [
        "IPY_MODEL_b159e4abb296496da44c18fd80698c2a"
       ],
       "name": "France",
       "options": [],
       "pane": "",
       "popup": null,
       "popup_max_height": null,
       "popup_max_width": 300,
       "popup_min_width": 50,
       "subitems": []
      }
     },
     "b159e4abb296496da44c18fd80698c2a": {
      "model_module": "jupyter-leaflet",
      "model_module_version": "^0.19",
      "model_name": "LeafletGeoJSONModel",
      "state": {
       "_model_module": "jupyter-leaflet",
       "_model_module_version": "^0.19",
       "_model_name": "LeafletGeoJSONModel",
       "_view_count": null,
       "_view_module": "jupyter-leaflet",
       "_view_module_version": "^0.19",
       "_view_name": "LeafletGeoJSONView",
       "base": false,
       "bottom": false,
       "data": {
        "features": [
         {
          "geometry": {
           "coordinates": [
            [
             [
              2.0,
              47.0
             ],
             [
              7.0,
              47.0
             ],
             [
              7.0,
              42.0
             ],
             [
              2.0,
              42.0
             ],
             [
              2.0,
              47.0
             ]
            ]
           ],
           "type": "Polygon"
          },
          "properties": {
           "country": "France",
           "style": {
            "color": "blue",
            "opacity": 0.6,
            "weight": 1.5
           },
           "year": 1800
          },
          "type": "Feature"
         }
        ],
        "type": "FeatureCollection"
       },
       "hover_style": {},
       "layers": [],
       "name": "",
       "options": [],
       "pane": "",
       "point_style": {},
       "popup": null,
       "popup_max_height": null,
       "popup_max_width": 300,
       "popup_min_width": 50,
       "style": {
        "color": "blue",
        "opacity": 0.6,
        "weight": 1.5
       },
       "subitems": [],
       "visible": true
      }
     },
     "b3b936cf1b2f4c6ba039f05eebb2c729": {
      "model_module": "jupyter-leaflet",
      "model_module_version": "^0.19",
      "model_name": "LeafletMapModel",
      "state": {
       "_dom_classes": [],
       "_model_module": "jupyter-leaflet",
       "_model_module_version": "^0.19",
       "_model_name": "LeafletMapModel",
       "_view_count": null,
       "_view_module": "jupyter-leaflet",
       "_view_module_version": "^0.19",
       "_view_name": "LeafletMapView",
       "bottom": 0.0,
       "bounce_at_zoom_limits": true,
       "box_zoom": true,
       "center": [
        45,
        10
       ],
       "close_popup_on_click": true,
       "controls": [
        "IPY_MODEL_0b51d1e9a2b24d7882deb3ef2f4b8604",
        "IPY_MODEL_c0c5e9af006b494583b2c9e6312987c5",
        "IPY_MODEL_193b9a68658746b28b5b1c5dffb4391a"
       ],
       "crs": {
        "custom": false,
        "name": "EPSG3857"
       },
       "default_style": "IPY_MODEL_7ab26654640347cea5fcfdf71c3ec6f1",
       "double_click_zoom": true,
       "dragging": true,
       "dragging_style": "IPY_MODEL_8efcc9ccdb0f47c9a1b1dd70698f9a7f",
       "east": 0.0,
       "fullscreen": false,
       "inertia": true,
       "inertia_deceleration": 3000,
       "inertia_max_speed": 1500,
       "interpolation": "bilinear",
       "keyboard": true,
       "keyboard_pan_offset": 80,
       "keyboard_zoom_offset": 1,
       "layers": [
        "IPY_MODEL_cbcaf8ef38ac4a0ea0da3dc9f6569e95",
        "IPY_MODEL_22fbe4e5e5a143e4a5a81e3da113bef7",
        "IPY_MODEL_aaf6baba19f441ecb837d375ee9c2005"
       ],
       "layout": "IPY_MODEL_e75b2e9375f8456690c8e007f0307034",
       "left": 9007199254740991.0,
       "max_zoom": null,
       "min_zoom": null,
       "modisdate": "2024-11-27",
       "north": 0.0,
       "options": [
        "bounce_at_zoom_limits",
        "box_zoom",
        "center",
        "close_popup_on_click",
        "double_click_zoom",
        "dragging",
        "fullscreen",
        "inertia",
        "inertia_deceleration",
        "inertia_max_speed",
        "interpolation",
        "keyboard",
        "keyboard_pan_offset",
        "keyboard_zoom_offset",
        "max_zoom",
        "min_zoom",
        "prefer_canvas",
        "scroll_wheel_zoom",
        "tap",
        "tap_tolerance",
        "touch_zoom",
        "world_copy_jump",
        "zoom",
        "zoom_animation_threshold",
        "zoom_delta",
        "zoom_snap"
       ],
       "panes": {},
       "prefer_canvas": false,
       "right": 0.0,
       "scroll_wheel_zoom": false,
       "south": 0.0,
       "style": "IPY_MODEL_92d5a21bb0c941859a4c98f681bcb450",
       "tap": true,
       "tap_tolerance": 15,
       "top": 9007199254740991.0,
       "touch_zoom": true,
       "west": 0.0,
       "window_url": "",
       "world_copy_jump": false,
       "zoom": 5.0,
       "zoom_animation_threshold": 4,
       "zoom_delta": 1.0,
       "zoom_snap": 1.0
      }
     },
     "c0c5e9af006b494583b2c9e6312987c5": {
      "model_module": "jupyter-leaflet",
      "model_module_version": "^0.19",
      "model_name": "LeafletAttributionControlModel",
      "state": {
       "_model_module": "jupyter-leaflet",
       "_model_module_version": "^0.19",
       "_model_name": "LeafletAttributionControlModel",
       "_view_count": null,
       "_view_module": "jupyter-leaflet",
       "_view_module_version": "^0.19",
       "_view_name": "LeafletAttributionControlView",
       "options": [
        "position",
        "prefix"
       ],
       "position": "bottomright",
       "prefix": "ipyleaflet"
      }
     },
     "c345e4c250dc4a41aae382e6d0756029": {
      "model_module": "jupyter-leaflet",
      "model_module_version": "^0.19",
      "model_name": "LeafletMapModel",
      "state": {
       "_dom_classes": [],
       "_model_module": "jupyter-leaflet",
       "_model_module_version": "^0.19",
       "_model_name": "LeafletMapModel",
       "_view_count": null,
       "_view_module": "jupyter-leaflet",
       "_view_module_version": "^0.19",
       "_view_name": "LeafletMapView",
       "bottom": 0.0,
       "bounce_at_zoom_limits": true,
       "box_zoom": true,
       "center": [
        45.0,
        10.0
       ],
       "close_popup_on_click": true,
       "controls": [
        "IPY_MODEL_42cefcac26ac475f829be88b4b487c46",
        "IPY_MODEL_ffbcbdd2feae4a029d3555e79cda1704",
        "IPY_MODEL_743ad74306d74758b216b0cad157d440",
        "IPY_MODEL_ef4c69a148ff48e2a38e4b92ed7bcf2e",
        "IPY_MODEL_61a749f344054e708e49aabcdb86884d",
        "IPY_MODEL_9199576613ff4da1a704ae4d24c11618"
       ],
       "crs": {
        "custom": false,
        "name": "EPSG3857"
       },
       "default_style": "IPY_MODEL_c38e32e8c0ef46c9a4e88e6985b8d379",
       "double_click_zoom": true,
       "dragging": true,
       "dragging_style": "IPY_MODEL_ca60831726bb4fb1a7cd3bdc48426c5f",
       "east": 0.0,
       "fullscreen": false,
       "inertia": true,
       "inertia_deceleration": 3000,
       "inertia_max_speed": 1500,
       "interpolation": "bilinear",
       "keyboard": true,
       "keyboard_pan_offset": 80,
       "keyboard_zoom_offset": 1,
       "layers": [
        "IPY_MODEL_085e1ba31a6243a5924beec390b188d5"
       ],
       "layout": "IPY_MODEL_630b1b179f324e4a91e4394a8f669c2b",
       "left": 9007199254740991.0,
       "max_zoom": null,
       "min_zoom": null,
       "modisdate": "2024-11-27",
       "north": 0.0,
       "options": [
        "bounce_at_zoom_limits",
        "box_zoom",
        "center",
        "close_popup_on_click",
        "double_click_zoom",
        "dragging",
        "fullscreen",
        "inertia",
        "inertia_deceleration",
        "inertia_max_speed",
        "interpolation",
        "keyboard",
        "keyboard_pan_offset",
        "keyboard_zoom_offset",
        "max_zoom",
        "min_zoom",
        "prefer_canvas",
        "scroll_wheel_zoom",
        "tap",
        "tap_tolerance",
        "touch_zoom",
        "world_copy_jump",
        "zoom",
        "zoom_animation_threshold",
        "zoom_delta",
        "zoom_snap"
       ],
       "panes": {},
       "prefer_canvas": false,
       "right": 0.0,
       "scroll_wheel_zoom": false,
       "south": 0.0,
       "style": "IPY_MODEL_2cf2cc23165142f2b4d95982c7dccdec",
       "tap": true,
       "tap_tolerance": 15,
       "top": 9007199254740991.0,
       "touch_zoom": true,
       "west": 0.0,
       "window_url": "",
       "world_copy_jump": false,
       "zoom": 5.0,
       "zoom_animation_threshold": 4,
       "zoom_delta": 1.0,
       "zoom_snap": 1.0
      }
     },
     "c38e32e8c0ef46c9a4e88e6985b8d379": {
      "model_module": "jupyter-leaflet",
      "model_module_version": "^0.19",
      "model_name": "LeafletMapStyleModel",
      "state": {
       "_model_module": "jupyter-leaflet",
       "_model_module_version": "^0.19",
       "_model_name": "LeafletMapStyleModel",
       "_view_count": null,
       "_view_module": "@jupyter-widgets/base",
       "_view_module_version": "1.2.0",
       "_view_name": "StyleView",
       "cursor": "grab"
      }
     },
     "ca60831726bb4fb1a7cd3bdc48426c5f": {
      "model_module": "jupyter-leaflet",
      "model_module_version": "^0.19",
      "model_name": "LeafletMapStyleModel",
      "state": {
       "_model_module": "jupyter-leaflet",
       "_model_module_version": "^0.19",
       "_model_name": "LeafletMapStyleModel",
       "_view_count": null,
       "_view_module": "@jupyter-widgets/base",
       "_view_module_version": "1.2.0",
       "_view_name": "StyleView",
       "cursor": "move"
      }
     },
     "cbcaf8ef38ac4a0ea0da3dc9f6569e95": {
      "model_module": "jupyter-leaflet",
      "model_module_version": "^0.19",
      "model_name": "LeafletTileLayerModel",
      "state": {
       "_model_module": "jupyter-leaflet",
       "_model_module_version": "^0.19",
       "_model_name": "LeafletTileLayerModel",
       "_view_count": null,
       "_view_module": "jupyter-leaflet",
       "_view_module_version": "^0.19",
       "_view_name": "LeafletTileLayerView",
       "attribution": "&copy; <a href=\"https://www.openstreetmap.org/copyright\">OpenStreetMap</a> contributors",
       "base": true,
       "bottom": true,
       "bounds": null,
       "detect_retina": false,
       "loading": false,
       "max_native_zoom": null,
       "max_zoom": 19,
       "min_native_zoom": null,
       "min_zoom": 1,
       "name": "OpenStreetMap.Mapnik",
       "no_wrap": false,
       "opacity": 1.0,
       "options": [
        "attribution",
        "bounds",
        "detect_retina",
        "max_native_zoom",
        "max_zoom",
        "min_native_zoom",
        "min_zoom",
        "no_wrap",
        "tile_size",
        "tms",
        "zoom_offset"
       ],
       "pane": "",
       "popup": null,
       "popup_max_height": null,
       "popup_max_width": 300,
       "popup_min_width": 50,
       "show_loading": false,
       "subitems": [],
       "tile_size": 256,
       "tms": false,
       "url": "https://a.tile.openstreetmap.org/{z}/{x}/{y}.png",
       "visible": true,
       "zoom_offset": 0
      }
     },
     "d2313c035a1348eda3fcfc99b314b128": {
      "model_module": "@jupyter-widgets/base",
      "model_module_version": "1.2.0",
      "model_name": "LayoutModel",
      "state": {
       "_model_module": "@jupyter-widgets/base",
       "_model_module_version": "1.2.0",
       "_model_name": "LayoutModel",
       "_view_count": null,
       "_view_module": "@jupyter-widgets/base",
       "_view_module_version": "1.2.0",
       "_view_name": "LayoutView",
       "align_content": null,
       "align_items": null,
       "align_self": null,
       "border": null,
       "bottom": null,
       "display": null,
       "flex": null,
       "flex_flow": null,
       "grid_area": null,
       "grid_auto_columns": null,
       "grid_auto_flow": null,
       "grid_auto_rows": null,
       "grid_column": null,
       "grid_gap": null,
       "grid_row": null,
       "grid_template_areas": null,
       "grid_template_columns": null,
       "grid_template_rows": null,
       "height": null,
       "justify_content": null,
       "justify_items": null,
       "left": null,
       "margin": null,
       "max_height": null,
       "max_width": null,
       "min_height": null,
       "min_width": null,
       "object_fit": null,
       "object_position": null,
       "order": null,
       "overflow": null,
       "overflow_x": null,
       "overflow_y": null,
       "padding": null,
       "right": null,
       "top": null,
       "visibility": null,
       "width": null
      }
     },
     "e75b2e9375f8456690c8e007f0307034": {
      "model_module": "@jupyter-widgets/base",
      "model_module_version": "1.2.0",
      "model_name": "LayoutModel",
      "state": {
       "_model_module": "@jupyter-widgets/base",
       "_model_module_version": "1.2.0",
       "_model_name": "LayoutModel",
       "_view_count": null,
       "_view_module": "@jupyter-widgets/base",
       "_view_module_version": "1.2.0",
       "_view_name": "LayoutView",
       "align_content": null,
       "align_items": null,
       "align_self": null,
       "border": null,
       "bottom": null,
       "display": null,
       "flex": null,
       "flex_flow": null,
       "grid_area": null,
       "grid_auto_columns": null,
       "grid_auto_flow": null,
       "grid_auto_rows": null,
       "grid_column": null,
       "grid_gap": null,
       "grid_row": null,
       "grid_template_areas": null,
       "grid_template_columns": null,
       "grid_template_rows": null,
       "height": null,
       "justify_content": null,
       "justify_items": null,
       "left": null,
       "margin": null,
       "max_height": null,
       "max_width": null,
       "min_height": null,
       "min_width": null,
       "object_fit": null,
       "object_position": null,
       "order": null,
       "overflow": null,
       "overflow_x": null,
       "overflow_y": null,
       "padding": null,
       "right": null,
       "top": null,
       "visibility": null,
       "width": null
      }
     },
     "ef4c69a148ff48e2a38e4b92ed7bcf2e": {
      "model_module": "jupyter-leaflet",
      "model_module_version": "^0.19",
      "model_name": "LeafletFullScreenControlModel",
      "state": {
       "_model_module": "jupyter-leaflet",
       "_model_module_version": "^0.19",
       "_model_name": "LeafletFullScreenControlModel",
       "_view_count": null,
       "_view_module": "jupyter-leaflet",
       "_view_module_version": "^0.19",
       "_view_name": "LeafletFullScreenControlView",
       "options": [
        "position"
       ],
       "position": "topleft"
      }
     },
     "ffbcbdd2feae4a029d3555e79cda1704": {
      "model_module": "jupyter-leaflet",
      "model_module_version": "^0.19",
      "model_name": "LeafletAttributionControlModel",
      "state": {
       "_model_module": "jupyter-leaflet",
       "_model_module_version": "^0.19",
       "_model_name": "LeafletAttributionControlModel",
       "_view_count": null,
       "_view_module": "jupyter-leaflet",
       "_view_module_version": "^0.19",
       "_view_name": "LeafletAttributionControlView",
       "options": [
        "position",
        "prefix"
       ],
       "position": "bottomright",
       "prefix": "ipyleaflet"
      }
     }
    },
    "version_major": 2,
    "version_minor": 0
   }
  }
 },
 "nbformat": 4,
 "nbformat_minor": 5
}