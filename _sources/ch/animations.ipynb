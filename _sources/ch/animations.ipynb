{
 "cells": [
  {
   "cell_type": "markdown",
   "id": "266c1acf-78fb-4b59-aa54-e9117ca5f2cd",
   "metadata": {},
   "source": [
    "# Animazioni in un Jupyter book\n",
    "\n",
    "Primo approccio alle animazioni[^interactivetextbooks-animations] in un Jupyter book.\n",
    "\n",
    "[^interactivetextbooks-animations]:https://interactivetextbooks.tudelft.nl/open-textbooks-demonstration/content/Basic_animation_demo.html"
   ]
  }
 ],
 "metadata": {
  "kernelspec": {
   "display_name": "Python 3 (ipykernel)",
   "language": "python",
   "name": "python3"
  },
  "language_info": {
   "codemirror_mode": {
    "name": "ipython",
    "version": 3
   },
   "file_extension": ".py",
   "mimetype": "text/x-python",
   "name": "python",
   "nbconvert_exporter": "python",
   "pygments_lexer": "ipython3",
   "version": "3.8.10"
  }
 },
 "nbformat": 4,
 "nbformat_minor": 5
}
