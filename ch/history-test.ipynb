{
 "cells": [
  {
   "cell_type": "markdown",
   "id": "6715ac40-b836-4f08-88ad-0afeffb39deb",
   "metadata": {
    "editable": true,
    "slideshow": {
     "slide_type": ""
    },
    "tags": []
   },
   "source": [
    "# Test carta"
   ]
  },
  {
   "cell_type": "markdown",
   "id": "14fe0cad-a9d7-48f4-97d8-8cb8d13737ae",
   "metadata": {
    "editable": true,
    "slideshow": {
     "slide_type": ""
    },
    "tags": []
   },
   "source": [
    "## Libreria $\\texttt{ipyleaflet}$"
   ]
  },
  {
   "cell_type": "markdown",
   "id": "3eb52803-052c-4937-ac19-4200c2bd6a29",
   "metadata": {
    "editable": true,
    "slideshow": {
     "slide_type": ""
    },
    "tags": []
   },
   "source": [
    "### Import librerie"
   ]
  },
  {
   "cell_type": "code",
   "execution_count": 1,
   "id": "3f49b489-4688-426e-a2c1-59771822e04a",
   "metadata": {
    "editable": true,
    "slideshow": {
     "slide_type": ""
    },
    "tags": [
     "hide-output"
    ]
   },
   "outputs": [
    {
     "name": "stdout",
     "output_type": "stream",
     "text": [
      "Defaulting to user installation because normal site-packages is not writeable\n",
      "Requirement already satisfied: ipyleaflet in /home/davide/.local/lib/python3.8/site-packages (0.19.2)\n",
      "Requirement already satisfied: branca>=0.5.0 in /home/davide/.local/lib/python3.8/site-packages (from ipyleaflet) (0.8.0)\n",
      "Requirement already satisfied: ipywidgets<9,>=7.6.0 in /home/davide/.local/lib/python3.8/site-packages (from ipyleaflet) (7.6.4)\n",
      "Requirement already satisfied: jupyter-leaflet<0.20,>=0.19 in /home/davide/.local/lib/python3.8/site-packages (from ipyleaflet) (0.19.2)\n",
      "Requirement already satisfied: traittypes<3,>=0.2.1 in /home/davide/.local/lib/python3.8/site-packages (from ipyleaflet) (0.2.1)\n",
      "Requirement already satisfied: xyzservices>=2021.8.1 in /home/davide/.local/lib/python3.8/site-packages (from ipyleaflet) (2021.11.0)\n",
      "Requirement already satisfied: jinja2>=3 in /home/davide/.local/lib/python3.8/site-packages (from branca>=0.5.0->ipyleaflet) (3.0.3)\n",
      "Requirement already satisfied: ipykernel>=4.5.1 in /home/davide/.local/lib/python3.8/site-packages (from ipywidgets<9,>=7.6.0->ipyleaflet) (6.29.5)\n",
      "Requirement already satisfied: ipython-genutils~=0.2.0 in /usr/lib/python3/dist-packages (from ipywidgets<9,>=7.6.0->ipyleaflet) (0.2.0)\n",
      "Requirement already satisfied: traitlets>=4.3.1 in /home/davide/.local/lib/python3.8/site-packages (from ipywidgets<9,>=7.6.0->ipyleaflet) (5.14.3)\n",
      "Requirement already satisfied: nbformat>=4.2.0 in /home/davide/.local/lib/python3.8/site-packages (from ipywidgets<9,>=7.6.0->ipyleaflet) (5.10.4)\n",
      "Requirement already satisfied: widgetsnbextension~=3.5.0 in /home/davide/.local/lib/python3.8/site-packages (from ipywidgets<9,>=7.6.0->ipyleaflet) (3.5.1)\n",
      "Requirement already satisfied: ipython>=4.0.0 in /home/davide/.local/lib/python3.8/site-packages (from ipywidgets<9,>=7.6.0->ipyleaflet) (8.12.3)\n",
      "Requirement already satisfied: jupyterlab-widgets>=1.0.0 in /home/davide/.local/lib/python3.8/site-packages (from ipywidgets<9,>=7.6.0->ipyleaflet) (1.0.1)\n",
      "Requirement already satisfied: comm>=0.1.1 in /home/davide/.local/lib/python3.8/site-packages (from ipykernel>=4.5.1->ipywidgets<9,>=7.6.0->ipyleaflet) (0.2.2)\n",
      "Requirement already satisfied: debugpy>=1.6.5 in /home/davide/.local/lib/python3.8/site-packages (from ipykernel>=4.5.1->ipywidgets<9,>=7.6.0->ipyleaflet) (1.8.7)\n",
      "Requirement already satisfied: jupyter-client>=6.1.12 in /home/davide/.local/lib/python3.8/site-packages (from ipykernel>=4.5.1->ipywidgets<9,>=7.6.0->ipyleaflet) (8.6.2)\n",
      "Requirement already satisfied: jupyter-core!=5.0.*,>=4.12 in /home/davide/.local/lib/python3.8/site-packages (from ipykernel>=4.5.1->ipywidgets<9,>=7.6.0->ipyleaflet) (5.7.2)\n",
      "Requirement already satisfied: matplotlib-inline>=0.1 in /home/davide/.local/lib/python3.8/site-packages (from ipykernel>=4.5.1->ipywidgets<9,>=7.6.0->ipyleaflet) (0.1.7)\n",
      "Requirement already satisfied: nest-asyncio in /home/davide/.local/lib/python3.8/site-packages (from ipykernel>=4.5.1->ipywidgets<9,>=7.6.0->ipyleaflet) (1.5.8)\n",
      "Requirement already satisfied: packaging in /home/davide/.local/lib/python3.8/site-packages (from ipykernel>=4.5.1->ipywidgets<9,>=7.6.0->ipyleaflet) (24.1)\n",
      "Requirement already satisfied: psutil in /usr/lib/python3/dist-packages (from ipykernel>=4.5.1->ipywidgets<9,>=7.6.0->ipyleaflet) (5.5.1)\n",
      "Requirement already satisfied: pyzmq>=24 in /home/davide/.local/lib/python3.8/site-packages (from ipykernel>=4.5.1->ipywidgets<9,>=7.6.0->ipyleaflet) (26.2.0)\n",
      "Requirement already satisfied: tornado>=6.1 in /home/davide/.local/lib/python3.8/site-packages (from ipykernel>=4.5.1->ipywidgets<9,>=7.6.0->ipyleaflet) (6.4.1)\n",
      "Requirement already satisfied: backcall in /usr/lib/python3/dist-packages (from ipython>=4.0.0->ipywidgets<9,>=7.6.0->ipyleaflet) (0.1.0)\n",
      "Requirement already satisfied: decorator in /usr/lib/python3/dist-packages (from ipython>=4.0.0->ipywidgets<9,>=7.6.0->ipyleaflet) (4.4.2)\n",
      "Requirement already satisfied: jedi>=0.16 in /home/davide/.local/lib/python3.8/site-packages (from ipython>=4.0.0->ipywidgets<9,>=7.6.0->ipyleaflet) (0.19.1)\n",
      "Requirement already satisfied: pickleshare in /usr/lib/python3/dist-packages (from ipython>=4.0.0->ipywidgets<9,>=7.6.0->ipyleaflet) (0.7.5)\n",
      "Requirement already satisfied: prompt-toolkit!=3.0.37,<3.1.0,>=3.0.30 in /home/davide/.local/lib/python3.8/site-packages (from ipython>=4.0.0->ipywidgets<9,>=7.6.0->ipyleaflet) (3.0.48)\n",
      "Requirement already satisfied: pygments>=2.4.0 in /home/davide/.local/lib/python3.8/site-packages (from ipython>=4.0.0->ipywidgets<9,>=7.6.0->ipyleaflet) (2.18.0)\n",
      "Requirement already satisfied: stack-data in /home/davide/.local/lib/python3.8/site-packages (from ipython>=4.0.0->ipywidgets<9,>=7.6.0->ipyleaflet) (0.6.3)\n",
      "Requirement already satisfied: typing-extensions in /home/davide/.local/lib/python3.8/site-packages (from ipython>=4.0.0->ipywidgets<9,>=7.6.0->ipyleaflet) (4.5.0)\n",
      "Requirement already satisfied: pexpect>4.3 in /home/davide/.local/lib/python3.8/site-packages (from ipython>=4.0.0->ipywidgets<9,>=7.6.0->ipyleaflet) (4.8.0)\n",
      "Requirement already satisfied: MarkupSafe>=2.0 in /home/davide/.local/lib/python3.8/site-packages (from jinja2>=3->branca>=0.5.0->ipyleaflet) (2.0.1)\n",
      "Requirement already satisfied: fastjsonschema>=2.15 in /home/davide/.local/lib/python3.8/site-packages (from nbformat>=4.2.0->ipywidgets<9,>=7.6.0->ipyleaflet) (2.20.0)\n",
      "Requirement already satisfied: jsonschema>=2.6 in /home/davide/.local/lib/python3.8/site-packages (from nbformat>=4.2.0->ipywidgets<9,>=7.6.0->ipyleaflet) (4.23.0)\n",
      "Requirement already satisfied: notebook>=4.4.1 in /home/davide/.local/lib/python3.8/site-packages (from widgetsnbextension~=3.5.0->ipywidgets<9,>=7.6.0->ipyleaflet) (7.2.2)\n",
      "Requirement already satisfied: parso<0.9.0,>=0.8.3 in /home/davide/.local/lib/python3.8/site-packages (from jedi>=0.16->ipython>=4.0.0->ipywidgets<9,>=7.6.0->ipyleaflet) (0.8.4)\n",
      "Requirement already satisfied: attrs>=22.2.0 in /home/davide/.local/lib/python3.8/site-packages (from jsonschema>=2.6->nbformat>=4.2.0->ipywidgets<9,>=7.6.0->ipyleaflet) (24.2.0)\n",
      "Requirement already satisfied: importlib-resources>=1.4.0 in /home/davide/.local/lib/python3.8/site-packages (from jsonschema>=2.6->nbformat>=4.2.0->ipywidgets<9,>=7.6.0->ipyleaflet) (5.4.0)\n",
      "Requirement already satisfied: jsonschema-specifications>=2023.03.6 in /home/davide/.local/lib/python3.8/site-packages (from jsonschema>=2.6->nbformat>=4.2.0->ipywidgets<9,>=7.6.0->ipyleaflet) (2023.12.1)\n",
      "Requirement already satisfied: pkgutil-resolve-name>=1.3.10 in /home/davide/.local/lib/python3.8/site-packages (from jsonschema>=2.6->nbformat>=4.2.0->ipywidgets<9,>=7.6.0->ipyleaflet) (1.3.10)\n",
      "Requirement already satisfied: referencing>=0.28.4 in /home/davide/.local/lib/python3.8/site-packages (from jsonschema>=2.6->nbformat>=4.2.0->ipywidgets<9,>=7.6.0->ipyleaflet) (0.35.1)\n",
      "Requirement already satisfied: rpds-py>=0.7.1 in /home/davide/.local/lib/python3.8/site-packages (from jsonschema>=2.6->nbformat>=4.2.0->ipywidgets<9,>=7.6.0->ipyleaflet) (0.20.0)\n",
      "Requirement already satisfied: importlib-metadata>=4.8.3 in /home/davide/.local/lib/python3.8/site-packages (from jupyter-client>=6.1.12->ipykernel>=4.5.1->ipywidgets<9,>=7.6.0->ipyleaflet) (6.8.0)\n",
      "Requirement already satisfied: python-dateutil>=2.8.2 in /home/davide/.local/lib/python3.8/site-packages (from jupyter-client>=6.1.12->ipykernel>=4.5.1->ipywidgets<9,>=7.6.0->ipyleaflet) (2.9.0.post0)\n",
      "Requirement already satisfied: platformdirs>=2.5 in /home/davide/.local/lib/python3.8/site-packages (from jupyter-core!=5.0.*,>=4.12->ipykernel>=4.5.1->ipywidgets<9,>=7.6.0->ipyleaflet) (2.5.1)\n",
      "Requirement already satisfied: jupyter-server<3,>=2.4.0 in /home/davide/.local/lib/python3.8/site-packages (from notebook>=4.4.1->widgetsnbextension~=3.5.0->ipywidgets<9,>=7.6.0->ipyleaflet) (2.14.2)\n",
      "Requirement already satisfied: jupyterlab-server<3,>=2.27.1 in /home/davide/.local/lib/python3.8/site-packages (from notebook>=4.4.1->widgetsnbextension~=3.5.0->ipywidgets<9,>=7.6.0->ipyleaflet) (2.27.3)\n",
      "Requirement already satisfied: jupyterlab<4.3,>=4.2.0 in /home/davide/.local/lib/python3.8/site-packages (from notebook>=4.4.1->widgetsnbextension~=3.5.0->ipywidgets<9,>=7.6.0->ipyleaflet) (4.2.5)\n",
      "Requirement already satisfied: notebook-shim<0.3,>=0.2 in /home/davide/.local/lib/python3.8/site-packages (from notebook>=4.4.1->widgetsnbextension~=3.5.0->ipywidgets<9,>=7.6.0->ipyleaflet) (0.2.4)\n",
      "Requirement already satisfied: ptyprocess>=0.5 in /home/davide/.local/lib/python3.8/site-packages (from pexpect>4.3->ipython>=4.0.0->ipywidgets<9,>=7.6.0->ipyleaflet) (0.7.0)\n",
      "Requirement already satisfied: wcwidth in /usr/lib/python3/dist-packages (from prompt-toolkit!=3.0.37,<3.1.0,>=3.0.30->ipython>=4.0.0->ipywidgets<9,>=7.6.0->ipyleaflet) (0.1.8)\n",
      "Requirement already satisfied: executing>=1.2.0 in /home/davide/.local/lib/python3.8/site-packages (from stack-data->ipython>=4.0.0->ipywidgets<9,>=7.6.0->ipyleaflet) (2.1.0)\n",
      "Requirement already satisfied: asttokens>=2.1.0 in /home/davide/.local/lib/python3.8/site-packages (from stack-data->ipython>=4.0.0->ipywidgets<9,>=7.6.0->ipyleaflet) (2.4.1)\n",
      "Requirement already satisfied: pure-eval in /home/davide/.local/lib/python3.8/site-packages (from stack-data->ipython>=4.0.0->ipywidgets<9,>=7.6.0->ipyleaflet) (0.2.3)\n",
      "Requirement already satisfied: six>=1.12.0 in /home/davide/.local/lib/python3.8/site-packages (from asttokens>=2.1.0->stack-data->ipython>=4.0.0->ipywidgets<9,>=7.6.0->ipyleaflet) (1.16.0)\n",
      "Requirement already satisfied: zipp>=0.5 in /home/davide/.local/lib/python3.8/site-packages (from importlib-metadata>=4.8.3->jupyter-client>=6.1.12->ipykernel>=4.5.1->ipywidgets<9,>=7.6.0->ipyleaflet) (3.7.0)\n",
      "Requirement already satisfied: anyio>=3.1.0 in /home/davide/.local/lib/python3.8/site-packages (from jupyter-server<3,>=2.4.0->notebook>=4.4.1->widgetsnbextension~=3.5.0->ipywidgets<9,>=7.6.0->ipyleaflet) (3.4.0)\n",
      "Requirement already satisfied: argon2-cffi>=21.1 in /home/davide/.local/lib/python3.8/site-packages (from jupyter-server<3,>=2.4.0->notebook>=4.4.1->widgetsnbextension~=3.5.0->ipywidgets<9,>=7.6.0->ipyleaflet) (21.1.0)\n",
      "Requirement already satisfied: jupyter-events>=0.9.0 in /home/davide/.local/lib/python3.8/site-packages (from jupyter-server<3,>=2.4.0->notebook>=4.4.1->widgetsnbextension~=3.5.0->ipywidgets<9,>=7.6.0->ipyleaflet) (0.10.0)\n",
      "Requirement already satisfied: jupyter-server-terminals>=0.4.4 in /home/davide/.local/lib/python3.8/site-packages (from jupyter-server<3,>=2.4.0->notebook>=4.4.1->widgetsnbextension~=3.5.0->ipywidgets<9,>=7.6.0->ipyleaflet) (0.5.3)\n",
      "Requirement already satisfied: nbconvert>=6.4.4 in /home/davide/.local/lib/python3.8/site-packages (from jupyter-server<3,>=2.4.0->notebook>=4.4.1->widgetsnbextension~=3.5.0->ipywidgets<9,>=7.6.0->ipyleaflet) (7.16.4)\n",
      "Requirement already satisfied: overrides>=5.0 in /home/davide/.local/lib/python3.8/site-packages (from jupyter-server<3,>=2.4.0->notebook>=4.4.1->widgetsnbextension~=3.5.0->ipywidgets<9,>=7.6.0->ipyleaflet) (7.7.0)\n",
      "Requirement already satisfied: prometheus-client>=0.9 in /home/davide/.local/lib/python3.8/site-packages (from jupyter-server<3,>=2.4.0->notebook>=4.4.1->widgetsnbextension~=3.5.0->ipywidgets<9,>=7.6.0->ipyleaflet) (0.11.0)\n",
      "Requirement already satisfied: send2trash>=1.8.2 in /home/davide/.local/lib/python3.8/site-packages (from jupyter-server<3,>=2.4.0->notebook>=4.4.1->widgetsnbextension~=3.5.0->ipywidgets<9,>=7.6.0->ipyleaflet) (1.8.3)\n",
      "Requirement already satisfied: terminado>=0.8.3 in /home/davide/.local/lib/python3.8/site-packages (from jupyter-server<3,>=2.4.0->notebook>=4.4.1->widgetsnbextension~=3.5.0->ipywidgets<9,>=7.6.0->ipyleaflet) (0.11.1)\n",
      "Requirement already satisfied: websocket-client>=1.7 in /home/davide/.local/lib/python3.8/site-packages (from jupyter-server<3,>=2.4.0->notebook>=4.4.1->widgetsnbextension~=3.5.0->ipywidgets<9,>=7.6.0->ipyleaflet) (1.8.0)\n",
      "Requirement already satisfied: async-lru>=1.0.0 in /home/davide/.local/lib/python3.8/site-packages (from jupyterlab<4.3,>=4.2.0->notebook>=4.4.1->widgetsnbextension~=3.5.0->ipywidgets<9,>=7.6.0->ipyleaflet) (2.0.4)\n",
      "Requirement already satisfied: httpx>=0.25.0 in /home/davide/.local/lib/python3.8/site-packages (from jupyterlab<4.3,>=4.2.0->notebook>=4.4.1->widgetsnbextension~=3.5.0->ipywidgets<9,>=7.6.0->ipyleaflet) (0.27.2)\n",
      "Requirement already satisfied: jupyter-lsp>=2.0.0 in /home/davide/.local/lib/python3.8/site-packages (from jupyterlab<4.3,>=4.2.0->notebook>=4.4.1->widgetsnbextension~=3.5.0->ipywidgets<9,>=7.6.0->ipyleaflet) (2.2.5)\n",
      "Requirement already satisfied: setuptools>=40.1.0 in /home/davide/.local/lib/python3.8/site-packages (from jupyterlab<4.3,>=4.2.0->notebook>=4.4.1->widgetsnbextension~=3.5.0->ipywidgets<9,>=7.6.0->ipyleaflet) (62.1.0)\n",
      "Requirement already satisfied: tomli>=1.2.2 in /home/davide/.local/lib/python3.8/site-packages (from jupyterlab<4.3,>=4.2.0->notebook>=4.4.1->widgetsnbextension~=3.5.0->ipywidgets<9,>=7.6.0->ipyleaflet) (1.2.2)\n",
      "Requirement already satisfied: babel>=2.10 in /home/davide/.local/lib/python3.8/site-packages (from jupyterlab-server<3,>=2.27.1->notebook>=4.4.1->widgetsnbextension~=3.5.0->ipywidgets<9,>=7.6.0->ipyleaflet) (2.16.0)\n",
      "Requirement already satisfied: json5>=0.9.0 in /home/davide/.local/lib/python3.8/site-packages (from jupyterlab-server<3,>=2.27.1->notebook>=4.4.1->widgetsnbextension~=3.5.0->ipywidgets<9,>=7.6.0->ipyleaflet) (0.9.6)\n",
      "Requirement already satisfied: requests>=2.31 in /home/davide/.local/lib/python3.8/site-packages (from jupyterlab-server<3,>=2.27.1->notebook>=4.4.1->widgetsnbextension~=3.5.0->ipywidgets<9,>=7.6.0->ipyleaflet) (2.32.3)\n",
      "Requirement already satisfied: idna>=2.8 in /home/davide/.local/lib/python3.8/site-packages (from anyio>=3.1.0->jupyter-server<3,>=2.4.0->notebook>=4.4.1->widgetsnbextension~=3.5.0->ipywidgets<9,>=7.6.0->ipyleaflet) (2.10)\n",
      "Requirement already satisfied: sniffio>=1.1 in /home/davide/.local/lib/python3.8/site-packages (from anyio>=3.1.0->jupyter-server<3,>=2.4.0->notebook>=4.4.1->widgetsnbextension~=3.5.0->ipywidgets<9,>=7.6.0->ipyleaflet) (1.2.0)\n",
      "Requirement already satisfied: cffi>=1.0.0 in /home/davide/.local/lib/python3.8/site-packages (from argon2-cffi>=21.1->jupyter-server<3,>=2.4.0->notebook>=4.4.1->widgetsnbextension~=3.5.0->ipywidgets<9,>=7.6.0->ipyleaflet) (1.14.3)\n",
      "Requirement already satisfied: pytz>=2015.7 in /usr/lib/python3/dist-packages (from babel>=2.10->jupyterlab-server<3,>=2.27.1->notebook>=4.4.1->widgetsnbextension~=3.5.0->ipywidgets<9,>=7.6.0->ipyleaflet) (2019.3)\n",
      "Requirement already satisfied: certifi in /home/davide/.local/lib/python3.8/site-packages (from httpx>=0.25.0->jupyterlab<4.3,>=4.2.0->notebook>=4.4.1->widgetsnbextension~=3.5.0->ipywidgets<9,>=7.6.0->ipyleaflet) (2022.6.15)\n",
      "Requirement already satisfied: httpcore==1.* in /home/davide/.local/lib/python3.8/site-packages (from httpx>=0.25.0->jupyterlab<4.3,>=4.2.0->notebook>=4.4.1->widgetsnbextension~=3.5.0->ipywidgets<9,>=7.6.0->ipyleaflet) (1.0.6)\n",
      "Requirement already satisfied: h11<0.15,>=0.13 in /home/davide/.local/lib/python3.8/site-packages (from httpcore==1.*->httpx>=0.25.0->jupyterlab<4.3,>=4.2.0->notebook>=4.4.1->widgetsnbextension~=3.5.0->ipywidgets<9,>=7.6.0->ipyleaflet) (0.13.0)\n",
      "Requirement already satisfied: python-json-logger>=2.0.4 in /home/davide/.local/lib/python3.8/site-packages (from jupyter-events>=0.9.0->jupyter-server<3,>=2.4.0->notebook>=4.4.1->widgetsnbextension~=3.5.0->ipywidgets<9,>=7.6.0->ipyleaflet) (2.0.7)\n",
      "Requirement already satisfied: pyyaml>=5.3 in /usr/lib/python3/dist-packages (from jupyter-events>=0.9.0->jupyter-server<3,>=2.4.0->notebook>=4.4.1->widgetsnbextension~=3.5.0->ipywidgets<9,>=7.6.0->ipyleaflet) (5.3.1)\n",
      "Requirement already satisfied: rfc3339-validator in /home/davide/.local/lib/python3.8/site-packages (from jupyter-events>=0.9.0->jupyter-server<3,>=2.4.0->notebook>=4.4.1->widgetsnbextension~=3.5.0->ipywidgets<9,>=7.6.0->ipyleaflet) (0.1.4)\n",
      "Requirement already satisfied: rfc3986-validator>=0.1.1 in /home/davide/.local/lib/python3.8/site-packages (from jupyter-events>=0.9.0->jupyter-server<3,>=2.4.0->notebook>=4.4.1->widgetsnbextension~=3.5.0->ipywidgets<9,>=7.6.0->ipyleaflet) (0.1.1)\n",
      "Requirement already satisfied: beautifulsoup4 in /usr/lib/python3/dist-packages (from nbconvert>=6.4.4->jupyter-server<3,>=2.4.0->notebook>=4.4.1->widgetsnbextension~=3.5.0->ipywidgets<9,>=7.6.0->ipyleaflet) (4.8.2)\n",
      "Requirement already satisfied: bleach!=5.0.0 in /usr/lib/python3/dist-packages (from nbconvert>=6.4.4->jupyter-server<3,>=2.4.0->notebook>=4.4.1->widgetsnbextension~=3.5.0->ipywidgets<9,>=7.6.0->ipyleaflet) (3.1.1)\n",
      "Requirement already satisfied: defusedxml in /usr/lib/python3/dist-packages (from nbconvert>=6.4.4->jupyter-server<3,>=2.4.0->notebook>=4.4.1->widgetsnbextension~=3.5.0->ipywidgets<9,>=7.6.0->ipyleaflet) (0.6.0)\n",
      "Requirement already satisfied: jupyterlab-pygments in /home/davide/.local/lib/python3.8/site-packages (from nbconvert>=6.4.4->jupyter-server<3,>=2.4.0->notebook>=4.4.1->widgetsnbextension~=3.5.0->ipywidgets<9,>=7.6.0->ipyleaflet) (0.3.0)\n",
      "Requirement already satisfied: mistune<4,>=2.0.3 in /home/davide/.local/lib/python3.8/site-packages (from nbconvert>=6.4.4->jupyter-server<3,>=2.4.0->notebook>=4.4.1->widgetsnbextension~=3.5.0->ipywidgets<9,>=7.6.0->ipyleaflet) (3.0.2)\n",
      "Requirement already satisfied: nbclient>=0.5.0 in /home/davide/.local/lib/python3.8/site-packages (from nbconvert>=6.4.4->jupyter-server<3,>=2.4.0->notebook>=4.4.1->widgetsnbextension~=3.5.0->ipywidgets<9,>=7.6.0->ipyleaflet) (0.7.4)\n",
      "Requirement already satisfied: pandocfilters>=1.4.1 in /usr/lib/python3/dist-packages (from nbconvert>=6.4.4->jupyter-server<3,>=2.4.0->notebook>=4.4.1->widgetsnbextension~=3.5.0->ipywidgets<9,>=7.6.0->ipyleaflet) (1.4.2)\n",
      "Requirement already satisfied: tinycss2 in /home/davide/.local/lib/python3.8/site-packages (from nbconvert>=6.4.4->jupyter-server<3,>=2.4.0->notebook>=4.4.1->widgetsnbextension~=3.5.0->ipywidgets<9,>=7.6.0->ipyleaflet) (1.1.1)\n",
      "Requirement already satisfied: charset-normalizer<4,>=2 in /home/davide/.local/lib/python3.8/site-packages (from requests>=2.31->jupyterlab-server<3,>=2.27.1->notebook>=4.4.1->widgetsnbextension~=3.5.0->ipywidgets<9,>=7.6.0->ipyleaflet) (2.0.7)\n",
      "Requirement already satisfied: urllib3<3,>=1.21.1 in /home/davide/.local/lib/python3.8/site-packages (from requests>=2.31->jupyterlab-server<3,>=2.27.1->notebook>=4.4.1->widgetsnbextension~=3.5.0->ipywidgets<9,>=7.6.0->ipyleaflet) (1.26.8)\n",
      "Requirement already satisfied: pycparser in /home/davide/.local/lib/python3.8/site-packages (from cffi>=1.0.0->argon2-cffi>=21.1->jupyter-server<3,>=2.4.0->notebook>=4.4.1->widgetsnbextension~=3.5.0->ipywidgets<9,>=7.6.0->ipyleaflet) (2.20)\n",
      "Requirement already satisfied: fqdn in /home/davide/.local/lib/python3.8/site-packages (from jsonschema[format-nongpl]>=4.18.0->jupyter-events>=0.9.0->jupyter-server<3,>=2.4.0->notebook>=4.4.1->widgetsnbextension~=3.5.0->ipywidgets<9,>=7.6.0->ipyleaflet) (1.5.1)\n",
      "Requirement already satisfied: isoduration in /home/davide/.local/lib/python3.8/site-packages (from jsonschema[format-nongpl]>=4.18.0->jupyter-events>=0.9.0->jupyter-server<3,>=2.4.0->notebook>=4.4.1->widgetsnbextension~=3.5.0->ipywidgets<9,>=7.6.0->ipyleaflet) (20.11.0)\n",
      "Requirement already satisfied: jsonpointer>1.13 in /home/davide/.local/lib/python3.8/site-packages (from jsonschema[format-nongpl]>=4.18.0->jupyter-events>=0.9.0->jupyter-server<3,>=2.4.0->notebook>=4.4.1->widgetsnbextension~=3.5.0->ipywidgets<9,>=7.6.0->ipyleaflet) (3.0.0)\n",
      "Requirement already satisfied: uri-template in /home/davide/.local/lib/python3.8/site-packages (from jsonschema[format-nongpl]>=4.18.0->jupyter-events>=0.9.0->jupyter-server<3,>=2.4.0->notebook>=4.4.1->widgetsnbextension~=3.5.0->ipywidgets<9,>=7.6.0->ipyleaflet) (1.3.0)\n",
      "Requirement already satisfied: webcolors>=24.6.0 in /home/davide/.local/lib/python3.8/site-packages (from jsonschema[format-nongpl]>=4.18.0->jupyter-events>=0.9.0->jupyter-server<3,>=2.4.0->notebook>=4.4.1->widgetsnbextension~=3.5.0->ipywidgets<9,>=7.6.0->ipyleaflet) (24.8.0)\n",
      "Requirement already satisfied: webencodings>=0.4 in /usr/lib/python3/dist-packages (from tinycss2->nbconvert>=6.4.4->jupyter-server<3,>=2.4.0->notebook>=4.4.1->widgetsnbextension~=3.5.0->ipywidgets<9,>=7.6.0->ipyleaflet) (0.5.1)\n",
      "Requirement already satisfied: arrow>=0.15.0 in /home/davide/.local/lib/python3.8/site-packages (from isoduration->jsonschema[format-nongpl]>=4.18.0->jupyter-events>=0.9.0->jupyter-server<3,>=2.4.0->notebook>=4.4.1->widgetsnbextension~=3.5.0->ipywidgets<9,>=7.6.0->ipyleaflet) (1.3.0)\n",
      "Requirement already satisfied: types-python-dateutil>=2.8.10 in /home/davide/.local/lib/python3.8/site-packages (from arrow>=0.15.0->isoduration->jsonschema[format-nongpl]>=4.18.0->jupyter-events>=0.9.0->jupyter-server<3,>=2.4.0->notebook>=4.4.1->widgetsnbextension~=3.5.0->ipywidgets<9,>=7.6.0->ipyleaflet) (2.9.0.20241003)\n",
      "\u001b[33mWARNING: Error parsing dependencies of arcgis: .* suffix can only be used with `==` or `!=` operators\n",
      "    keyring (<=21.8.*,>=19)\n",
      "             ~~~~~~~^\u001b[0m\u001b[33m\n",
      "\u001b[0m\u001b[33mWARNING: Error parsing dependencies of quilt3: Expected matching RIGHT_PARENTHESIS for LEFT_PARENTHESIS, after version specifier\n",
      "    urllib3 (<1.26,>=1.25.4numpy>=1.14.0) ; extra == 'tests'\n",
      "            ~~~~~~~~~~~~~~~^\u001b[0m\u001b[33m\n",
      "\u001b[0m\u001b[33mWARNING: Error parsing dependencies of distro-info: Invalid version: '0.23ubuntu1'\u001b[0m\u001b[33m\n",
      "\u001b[0m\u001b[33mWARNING: Error parsing dependencies of python-debian: Invalid version: '0.1.36ubuntu1'\u001b[0m\u001b[33m\n",
      "\u001b[0mNote: you may need to restart the kernel to use updated packages.\n",
      "Defaulting to user installation because normal site-packages is not writeable\n",
      "Requirement already satisfied: ipywidgets in /home/davide/.local/lib/python3.8/site-packages (7.6.4)\n",
      "Requirement already satisfied: ipykernel>=4.5.1 in /home/davide/.local/lib/python3.8/site-packages (from ipywidgets) (6.29.5)\n",
      "Requirement already satisfied: ipython-genutils~=0.2.0 in /usr/lib/python3/dist-packages (from ipywidgets) (0.2.0)\n",
      "Requirement already satisfied: traitlets>=4.3.1 in /home/davide/.local/lib/python3.8/site-packages (from ipywidgets) (5.14.3)\n",
      "Requirement already satisfied: nbformat>=4.2.0 in /home/davide/.local/lib/python3.8/site-packages (from ipywidgets) (5.10.4)\n",
      "Requirement already satisfied: widgetsnbextension~=3.5.0 in /home/davide/.local/lib/python3.8/site-packages (from ipywidgets) (3.5.1)\n",
      "Requirement already satisfied: ipython>=4.0.0 in /home/davide/.local/lib/python3.8/site-packages (from ipywidgets) (8.12.3)\n",
      "Requirement already satisfied: jupyterlab-widgets>=1.0.0 in /home/davide/.local/lib/python3.8/site-packages (from ipywidgets) (1.0.1)\n",
      "Requirement already satisfied: comm>=0.1.1 in /home/davide/.local/lib/python3.8/site-packages (from ipykernel>=4.5.1->ipywidgets) (0.2.2)\n",
      "Requirement already satisfied: debugpy>=1.6.5 in /home/davide/.local/lib/python3.8/site-packages (from ipykernel>=4.5.1->ipywidgets) (1.8.7)\n",
      "Requirement already satisfied: jupyter-client>=6.1.12 in /home/davide/.local/lib/python3.8/site-packages (from ipykernel>=4.5.1->ipywidgets) (8.6.2)\n",
      "Requirement already satisfied: jupyter-core!=5.0.*,>=4.12 in /home/davide/.local/lib/python3.8/site-packages (from ipykernel>=4.5.1->ipywidgets) (5.7.2)\n",
      "Requirement already satisfied: matplotlib-inline>=0.1 in /home/davide/.local/lib/python3.8/site-packages (from ipykernel>=4.5.1->ipywidgets) (0.1.7)\n",
      "Requirement already satisfied: nest-asyncio in /home/davide/.local/lib/python3.8/site-packages (from ipykernel>=4.5.1->ipywidgets) (1.5.8)\n",
      "Requirement already satisfied: packaging in /home/davide/.local/lib/python3.8/site-packages (from ipykernel>=4.5.1->ipywidgets) (24.1)\n",
      "Requirement already satisfied: psutil in /usr/lib/python3/dist-packages (from ipykernel>=4.5.1->ipywidgets) (5.5.1)\n",
      "Requirement already satisfied: pyzmq>=24 in /home/davide/.local/lib/python3.8/site-packages (from ipykernel>=4.5.1->ipywidgets) (26.2.0)\n",
      "Requirement already satisfied: tornado>=6.1 in /home/davide/.local/lib/python3.8/site-packages (from ipykernel>=4.5.1->ipywidgets) (6.4.1)\n",
      "Requirement already satisfied: backcall in /usr/lib/python3/dist-packages (from ipython>=4.0.0->ipywidgets) (0.1.0)\n",
      "Requirement already satisfied: decorator in /usr/lib/python3/dist-packages (from ipython>=4.0.0->ipywidgets) (4.4.2)\n",
      "Requirement already satisfied: jedi>=0.16 in /home/davide/.local/lib/python3.8/site-packages (from ipython>=4.0.0->ipywidgets) (0.19.1)\n",
      "Requirement already satisfied: pickleshare in /usr/lib/python3/dist-packages (from ipython>=4.0.0->ipywidgets) (0.7.5)\n",
      "Requirement already satisfied: prompt-toolkit!=3.0.37,<3.1.0,>=3.0.30 in /home/davide/.local/lib/python3.8/site-packages (from ipython>=4.0.0->ipywidgets) (3.0.48)\n",
      "Requirement already satisfied: pygments>=2.4.0 in /home/davide/.local/lib/python3.8/site-packages (from ipython>=4.0.0->ipywidgets) (2.18.0)\n",
      "Requirement already satisfied: stack-data in /home/davide/.local/lib/python3.8/site-packages (from ipython>=4.0.0->ipywidgets) (0.6.3)\n",
      "Requirement already satisfied: typing-extensions in /home/davide/.local/lib/python3.8/site-packages (from ipython>=4.0.0->ipywidgets) (4.5.0)\n",
      "Requirement already satisfied: pexpect>4.3 in /home/davide/.local/lib/python3.8/site-packages (from ipython>=4.0.0->ipywidgets) (4.8.0)\n",
      "Requirement already satisfied: fastjsonschema>=2.15 in /home/davide/.local/lib/python3.8/site-packages (from nbformat>=4.2.0->ipywidgets) (2.20.0)\n",
      "Requirement already satisfied: jsonschema>=2.6 in /home/davide/.local/lib/python3.8/site-packages (from nbformat>=4.2.0->ipywidgets) (4.23.0)\n",
      "Requirement already satisfied: notebook>=4.4.1 in /home/davide/.local/lib/python3.8/site-packages (from widgetsnbextension~=3.5.0->ipywidgets) (7.2.2)\n",
      "Requirement already satisfied: parso<0.9.0,>=0.8.3 in /home/davide/.local/lib/python3.8/site-packages (from jedi>=0.16->ipython>=4.0.0->ipywidgets) (0.8.4)\n",
      "Requirement already satisfied: attrs>=22.2.0 in /home/davide/.local/lib/python3.8/site-packages (from jsonschema>=2.6->nbformat>=4.2.0->ipywidgets) (24.2.0)\n",
      "Requirement already satisfied: importlib-resources>=1.4.0 in /home/davide/.local/lib/python3.8/site-packages (from jsonschema>=2.6->nbformat>=4.2.0->ipywidgets) (5.4.0)\n",
      "Requirement already satisfied: jsonschema-specifications>=2023.03.6 in /home/davide/.local/lib/python3.8/site-packages (from jsonschema>=2.6->nbformat>=4.2.0->ipywidgets) (2023.12.1)\n",
      "Requirement already satisfied: pkgutil-resolve-name>=1.3.10 in /home/davide/.local/lib/python3.8/site-packages (from jsonschema>=2.6->nbformat>=4.2.0->ipywidgets) (1.3.10)\n",
      "Requirement already satisfied: referencing>=0.28.4 in /home/davide/.local/lib/python3.8/site-packages (from jsonschema>=2.6->nbformat>=4.2.0->ipywidgets) (0.35.1)\n",
      "Requirement already satisfied: rpds-py>=0.7.1 in /home/davide/.local/lib/python3.8/site-packages (from jsonschema>=2.6->nbformat>=4.2.0->ipywidgets) (0.20.0)\n",
      "Requirement already satisfied: importlib-metadata>=4.8.3 in /home/davide/.local/lib/python3.8/site-packages (from jupyter-client>=6.1.12->ipykernel>=4.5.1->ipywidgets) (6.8.0)\n",
      "Requirement already satisfied: python-dateutil>=2.8.2 in /home/davide/.local/lib/python3.8/site-packages (from jupyter-client>=6.1.12->ipykernel>=4.5.1->ipywidgets) (2.9.0.post0)\n",
      "Requirement already satisfied: platformdirs>=2.5 in /home/davide/.local/lib/python3.8/site-packages (from jupyter-core!=5.0.*,>=4.12->ipykernel>=4.5.1->ipywidgets) (2.5.1)\n",
      "Requirement already satisfied: jupyter-server<3,>=2.4.0 in /home/davide/.local/lib/python3.8/site-packages (from notebook>=4.4.1->widgetsnbextension~=3.5.0->ipywidgets) (2.14.2)\n",
      "Requirement already satisfied: jupyterlab-server<3,>=2.27.1 in /home/davide/.local/lib/python3.8/site-packages (from notebook>=4.4.1->widgetsnbextension~=3.5.0->ipywidgets) (2.27.3)\n",
      "Requirement already satisfied: jupyterlab<4.3,>=4.2.0 in /home/davide/.local/lib/python3.8/site-packages (from notebook>=4.4.1->widgetsnbextension~=3.5.0->ipywidgets) (4.2.5)\n",
      "Requirement already satisfied: notebook-shim<0.3,>=0.2 in /home/davide/.local/lib/python3.8/site-packages (from notebook>=4.4.1->widgetsnbextension~=3.5.0->ipywidgets) (0.2.4)\n",
      "Requirement already satisfied: ptyprocess>=0.5 in /home/davide/.local/lib/python3.8/site-packages (from pexpect>4.3->ipython>=4.0.0->ipywidgets) (0.7.0)\n",
      "Requirement already satisfied: wcwidth in /usr/lib/python3/dist-packages (from prompt-toolkit!=3.0.37,<3.1.0,>=3.0.30->ipython>=4.0.0->ipywidgets) (0.1.8)\n",
      "Requirement already satisfied: executing>=1.2.0 in /home/davide/.local/lib/python3.8/site-packages (from stack-data->ipython>=4.0.0->ipywidgets) (2.1.0)\n",
      "Requirement already satisfied: asttokens>=2.1.0 in /home/davide/.local/lib/python3.8/site-packages (from stack-data->ipython>=4.0.0->ipywidgets) (2.4.1)\n",
      "Requirement already satisfied: pure-eval in /home/davide/.local/lib/python3.8/site-packages (from stack-data->ipython>=4.0.0->ipywidgets) (0.2.3)\n",
      "Requirement already satisfied: six>=1.12.0 in /home/davide/.local/lib/python3.8/site-packages (from asttokens>=2.1.0->stack-data->ipython>=4.0.0->ipywidgets) (1.16.0)\n",
      "Requirement already satisfied: zipp>=0.5 in /home/davide/.local/lib/python3.8/site-packages (from importlib-metadata>=4.8.3->jupyter-client>=6.1.12->ipykernel>=4.5.1->ipywidgets) (3.7.0)\n",
      "Requirement already satisfied: anyio>=3.1.0 in /home/davide/.local/lib/python3.8/site-packages (from jupyter-server<3,>=2.4.0->notebook>=4.4.1->widgetsnbextension~=3.5.0->ipywidgets) (3.4.0)\n",
      "Requirement already satisfied: argon2-cffi>=21.1 in /home/davide/.local/lib/python3.8/site-packages (from jupyter-server<3,>=2.4.0->notebook>=4.4.1->widgetsnbextension~=3.5.0->ipywidgets) (21.1.0)\n",
      "Requirement already satisfied: jinja2>=3.0.3 in /home/davide/.local/lib/python3.8/site-packages (from jupyter-server<3,>=2.4.0->notebook>=4.4.1->widgetsnbextension~=3.5.0->ipywidgets) (3.0.3)\n",
      "Requirement already satisfied: jupyter-events>=0.9.0 in /home/davide/.local/lib/python3.8/site-packages (from jupyter-server<3,>=2.4.0->notebook>=4.4.1->widgetsnbextension~=3.5.0->ipywidgets) (0.10.0)\n",
      "Requirement already satisfied: jupyter-server-terminals>=0.4.4 in /home/davide/.local/lib/python3.8/site-packages (from jupyter-server<3,>=2.4.0->notebook>=4.4.1->widgetsnbextension~=3.5.0->ipywidgets) (0.5.3)\n",
      "Requirement already satisfied: nbconvert>=6.4.4 in /home/davide/.local/lib/python3.8/site-packages (from jupyter-server<3,>=2.4.0->notebook>=4.4.1->widgetsnbextension~=3.5.0->ipywidgets) (7.16.4)\n",
      "Requirement already satisfied: overrides>=5.0 in /home/davide/.local/lib/python3.8/site-packages (from jupyter-server<3,>=2.4.0->notebook>=4.4.1->widgetsnbextension~=3.5.0->ipywidgets) (7.7.0)\n",
      "Requirement already satisfied: prometheus-client>=0.9 in /home/davide/.local/lib/python3.8/site-packages (from jupyter-server<3,>=2.4.0->notebook>=4.4.1->widgetsnbextension~=3.5.0->ipywidgets) (0.11.0)\n",
      "Requirement already satisfied: send2trash>=1.8.2 in /home/davide/.local/lib/python3.8/site-packages (from jupyter-server<3,>=2.4.0->notebook>=4.4.1->widgetsnbextension~=3.5.0->ipywidgets) (1.8.3)\n",
      "Requirement already satisfied: terminado>=0.8.3 in /home/davide/.local/lib/python3.8/site-packages (from jupyter-server<3,>=2.4.0->notebook>=4.4.1->widgetsnbextension~=3.5.0->ipywidgets) (0.11.1)\n",
      "Requirement already satisfied: websocket-client>=1.7 in /home/davide/.local/lib/python3.8/site-packages (from jupyter-server<3,>=2.4.0->notebook>=4.4.1->widgetsnbextension~=3.5.0->ipywidgets) (1.8.0)\n",
      "Requirement already satisfied: async-lru>=1.0.0 in /home/davide/.local/lib/python3.8/site-packages (from jupyterlab<4.3,>=4.2.0->notebook>=4.4.1->widgetsnbextension~=3.5.0->ipywidgets) (2.0.4)\n",
      "Requirement already satisfied: httpx>=0.25.0 in /home/davide/.local/lib/python3.8/site-packages (from jupyterlab<4.3,>=4.2.0->notebook>=4.4.1->widgetsnbextension~=3.5.0->ipywidgets) (0.27.2)\n",
      "Requirement already satisfied: jupyter-lsp>=2.0.0 in /home/davide/.local/lib/python3.8/site-packages (from jupyterlab<4.3,>=4.2.0->notebook>=4.4.1->widgetsnbextension~=3.5.0->ipywidgets) (2.2.5)\n",
      "Requirement already satisfied: setuptools>=40.1.0 in /home/davide/.local/lib/python3.8/site-packages (from jupyterlab<4.3,>=4.2.0->notebook>=4.4.1->widgetsnbextension~=3.5.0->ipywidgets) (62.1.0)\n",
      "Requirement already satisfied: tomli>=1.2.2 in /home/davide/.local/lib/python3.8/site-packages (from jupyterlab<4.3,>=4.2.0->notebook>=4.4.1->widgetsnbextension~=3.5.0->ipywidgets) (1.2.2)\n",
      "Requirement already satisfied: babel>=2.10 in /home/davide/.local/lib/python3.8/site-packages (from jupyterlab-server<3,>=2.27.1->notebook>=4.4.1->widgetsnbextension~=3.5.0->ipywidgets) (2.16.0)\n",
      "Requirement already satisfied: json5>=0.9.0 in /home/davide/.local/lib/python3.8/site-packages (from jupyterlab-server<3,>=2.27.1->notebook>=4.4.1->widgetsnbextension~=3.5.0->ipywidgets) (0.9.6)\n",
      "Requirement already satisfied: requests>=2.31 in /home/davide/.local/lib/python3.8/site-packages (from jupyterlab-server<3,>=2.27.1->notebook>=4.4.1->widgetsnbextension~=3.5.0->ipywidgets) (2.32.3)\n",
      "Requirement already satisfied: idna>=2.8 in /home/davide/.local/lib/python3.8/site-packages (from anyio>=3.1.0->jupyter-server<3,>=2.4.0->notebook>=4.4.1->widgetsnbextension~=3.5.0->ipywidgets) (2.10)\n",
      "Requirement already satisfied: sniffio>=1.1 in /home/davide/.local/lib/python3.8/site-packages (from anyio>=3.1.0->jupyter-server<3,>=2.4.0->notebook>=4.4.1->widgetsnbextension~=3.5.0->ipywidgets) (1.2.0)\n",
      "Requirement already satisfied: cffi>=1.0.0 in /home/davide/.local/lib/python3.8/site-packages (from argon2-cffi>=21.1->jupyter-server<3,>=2.4.0->notebook>=4.4.1->widgetsnbextension~=3.5.0->ipywidgets) (1.14.3)\n",
      "Requirement already satisfied: pytz>=2015.7 in /usr/lib/python3/dist-packages (from babel>=2.10->jupyterlab-server<3,>=2.27.1->notebook>=4.4.1->widgetsnbextension~=3.5.0->ipywidgets) (2019.3)\n",
      "Requirement already satisfied: certifi in /home/davide/.local/lib/python3.8/site-packages (from httpx>=0.25.0->jupyterlab<4.3,>=4.2.0->notebook>=4.4.1->widgetsnbextension~=3.5.0->ipywidgets) (2022.6.15)\n",
      "Requirement already satisfied: httpcore==1.* in /home/davide/.local/lib/python3.8/site-packages (from httpx>=0.25.0->jupyterlab<4.3,>=4.2.0->notebook>=4.4.1->widgetsnbextension~=3.5.0->ipywidgets) (1.0.6)\n",
      "Requirement already satisfied: h11<0.15,>=0.13 in /home/davide/.local/lib/python3.8/site-packages (from httpcore==1.*->httpx>=0.25.0->jupyterlab<4.3,>=4.2.0->notebook>=4.4.1->widgetsnbextension~=3.5.0->ipywidgets) (0.13.0)\n",
      "Requirement already satisfied: MarkupSafe>=2.0 in /home/davide/.local/lib/python3.8/site-packages (from jinja2>=3.0.3->jupyter-server<3,>=2.4.0->notebook>=4.4.1->widgetsnbextension~=3.5.0->ipywidgets) (2.0.1)\n",
      "Requirement already satisfied: python-json-logger>=2.0.4 in /home/davide/.local/lib/python3.8/site-packages (from jupyter-events>=0.9.0->jupyter-server<3,>=2.4.0->notebook>=4.4.1->widgetsnbextension~=3.5.0->ipywidgets) (2.0.7)\n",
      "Requirement already satisfied: pyyaml>=5.3 in /usr/lib/python3/dist-packages (from jupyter-events>=0.9.0->jupyter-server<3,>=2.4.0->notebook>=4.4.1->widgetsnbextension~=3.5.0->ipywidgets) (5.3.1)\n",
      "Requirement already satisfied: rfc3339-validator in /home/davide/.local/lib/python3.8/site-packages (from jupyter-events>=0.9.0->jupyter-server<3,>=2.4.0->notebook>=4.4.1->widgetsnbextension~=3.5.0->ipywidgets) (0.1.4)\n",
      "Requirement already satisfied: rfc3986-validator>=0.1.1 in /home/davide/.local/lib/python3.8/site-packages (from jupyter-events>=0.9.0->jupyter-server<3,>=2.4.0->notebook>=4.4.1->widgetsnbextension~=3.5.0->ipywidgets) (0.1.1)\n",
      "Requirement already satisfied: beautifulsoup4 in /usr/lib/python3/dist-packages (from nbconvert>=6.4.4->jupyter-server<3,>=2.4.0->notebook>=4.4.1->widgetsnbextension~=3.5.0->ipywidgets) (4.8.2)\n",
      "Requirement already satisfied: bleach!=5.0.0 in /usr/lib/python3/dist-packages (from nbconvert>=6.4.4->jupyter-server<3,>=2.4.0->notebook>=4.4.1->widgetsnbextension~=3.5.0->ipywidgets) (3.1.1)\n",
      "Requirement already satisfied: defusedxml in /usr/lib/python3/dist-packages (from nbconvert>=6.4.4->jupyter-server<3,>=2.4.0->notebook>=4.4.1->widgetsnbextension~=3.5.0->ipywidgets) (0.6.0)\n",
      "Requirement already satisfied: jupyterlab-pygments in /home/davide/.local/lib/python3.8/site-packages (from nbconvert>=6.4.4->jupyter-server<3,>=2.4.0->notebook>=4.4.1->widgetsnbextension~=3.5.0->ipywidgets) (0.3.0)\n",
      "Requirement already satisfied: mistune<4,>=2.0.3 in /home/davide/.local/lib/python3.8/site-packages (from nbconvert>=6.4.4->jupyter-server<3,>=2.4.0->notebook>=4.4.1->widgetsnbextension~=3.5.0->ipywidgets) (3.0.2)\n",
      "Requirement already satisfied: nbclient>=0.5.0 in /home/davide/.local/lib/python3.8/site-packages (from nbconvert>=6.4.4->jupyter-server<3,>=2.4.0->notebook>=4.4.1->widgetsnbextension~=3.5.0->ipywidgets) (0.7.4)\n",
      "Requirement already satisfied: pandocfilters>=1.4.1 in /usr/lib/python3/dist-packages (from nbconvert>=6.4.4->jupyter-server<3,>=2.4.0->notebook>=4.4.1->widgetsnbextension~=3.5.0->ipywidgets) (1.4.2)\n",
      "Requirement already satisfied: tinycss2 in /home/davide/.local/lib/python3.8/site-packages (from nbconvert>=6.4.4->jupyter-server<3,>=2.4.0->notebook>=4.4.1->widgetsnbextension~=3.5.0->ipywidgets) (1.1.1)\n",
      "Requirement already satisfied: charset-normalizer<4,>=2 in /home/davide/.local/lib/python3.8/site-packages (from requests>=2.31->jupyterlab-server<3,>=2.27.1->notebook>=4.4.1->widgetsnbextension~=3.5.0->ipywidgets) (2.0.7)\n",
      "Requirement already satisfied: urllib3<3,>=1.21.1 in /home/davide/.local/lib/python3.8/site-packages (from requests>=2.31->jupyterlab-server<3,>=2.27.1->notebook>=4.4.1->widgetsnbextension~=3.5.0->ipywidgets) (1.26.8)\n",
      "Requirement already satisfied: pycparser in /home/davide/.local/lib/python3.8/site-packages (from cffi>=1.0.0->argon2-cffi>=21.1->jupyter-server<3,>=2.4.0->notebook>=4.4.1->widgetsnbextension~=3.5.0->ipywidgets) (2.20)\n",
      "Requirement already satisfied: fqdn in /home/davide/.local/lib/python3.8/site-packages (from jsonschema[format-nongpl]>=4.18.0->jupyter-events>=0.9.0->jupyter-server<3,>=2.4.0->notebook>=4.4.1->widgetsnbextension~=3.5.0->ipywidgets) (1.5.1)\n",
      "Requirement already satisfied: isoduration in /home/davide/.local/lib/python3.8/site-packages (from jsonschema[format-nongpl]>=4.18.0->jupyter-events>=0.9.0->jupyter-server<3,>=2.4.0->notebook>=4.4.1->widgetsnbextension~=3.5.0->ipywidgets) (20.11.0)\n",
      "Requirement already satisfied: jsonpointer>1.13 in /home/davide/.local/lib/python3.8/site-packages (from jsonschema[format-nongpl]>=4.18.0->jupyter-events>=0.9.0->jupyter-server<3,>=2.4.0->notebook>=4.4.1->widgetsnbextension~=3.5.0->ipywidgets) (3.0.0)\n",
      "Requirement already satisfied: uri-template in /home/davide/.local/lib/python3.8/site-packages (from jsonschema[format-nongpl]>=4.18.0->jupyter-events>=0.9.0->jupyter-server<3,>=2.4.0->notebook>=4.4.1->widgetsnbextension~=3.5.0->ipywidgets) (1.3.0)\n",
      "Requirement already satisfied: webcolors>=24.6.0 in /home/davide/.local/lib/python3.8/site-packages (from jsonschema[format-nongpl]>=4.18.0->jupyter-events>=0.9.0->jupyter-server<3,>=2.4.0->notebook>=4.4.1->widgetsnbextension~=3.5.0->ipywidgets) (24.8.0)\n",
      "Requirement already satisfied: webencodings>=0.4 in /usr/lib/python3/dist-packages (from tinycss2->nbconvert>=6.4.4->jupyter-server<3,>=2.4.0->notebook>=4.4.1->widgetsnbextension~=3.5.0->ipywidgets) (0.5.1)\n",
      "Requirement already satisfied: arrow>=0.15.0 in /home/davide/.local/lib/python3.8/site-packages (from isoduration->jsonschema[format-nongpl]>=4.18.0->jupyter-events>=0.9.0->jupyter-server<3,>=2.4.0->notebook>=4.4.1->widgetsnbextension~=3.5.0->ipywidgets) (1.3.0)\n",
      "Requirement already satisfied: types-python-dateutil>=2.8.10 in /home/davide/.local/lib/python3.8/site-packages (from arrow>=0.15.0->isoduration->jsonschema[format-nongpl]>=4.18.0->jupyter-events>=0.9.0->jupyter-server<3,>=2.4.0->notebook>=4.4.1->widgetsnbextension~=3.5.0->ipywidgets) (2.9.0.20241003)\n",
      "\u001b[33mWARNING: Error parsing dependencies of arcgis: .* suffix can only be used with `==` or `!=` operators\n",
      "    keyring (<=21.8.*,>=19)\n",
      "             ~~~~~~~^\u001b[0m\u001b[33m\n",
      "\u001b[0m\u001b[33mWARNING: Error parsing dependencies of quilt3: Expected matching RIGHT_PARENTHESIS for LEFT_PARENTHESIS, after version specifier\n",
      "    urllib3 (<1.26,>=1.25.4numpy>=1.14.0) ; extra == 'tests'\n",
      "            ~~~~~~~~~~~~~~~^\u001b[0m\u001b[33m\n",
      "\u001b[0m\u001b[33mWARNING: Error parsing dependencies of distro-info: Invalid version: '0.23ubuntu1'\u001b[0m\u001b[33m\n",
      "\u001b[0m\u001b[33mWARNING: Error parsing dependencies of python-debian: Invalid version: '0.1.36ubuntu1'\u001b[0m\u001b[33m\n",
      "\u001b[0mNote: you may need to restart the kernel to use updated packages.\n",
      "Defaulting to user installation because normal site-packages is not writeable\n",
      "Requirement already satisfied: jupyterlab_widgets in /home/davide/.local/lib/python3.8/site-packages (1.0.1)\n",
      "\u001b[33mWARNING: Error parsing dependencies of arcgis: .* suffix can only be used with `==` or `!=` operators\n",
      "    keyring (<=21.8.*,>=19)\n",
      "             ~~~~~~~^\u001b[0m\u001b[33m\n",
      "\u001b[0m\u001b[33mWARNING: Error parsing dependencies of quilt3: Expected matching RIGHT_PARENTHESIS for LEFT_PARENTHESIS, after version specifier\n",
      "    urllib3 (<1.26,>=1.25.4numpy>=1.14.0) ; extra == 'tests'\n",
      "            ~~~~~~~~~~~~~~~^\u001b[0m\u001b[33m\n",
      "\u001b[0m\u001b[33mWARNING: Error parsing dependencies of distro-info: Invalid version: '0.23ubuntu1'\u001b[0m\u001b[33m\n",
      "\u001b[0m\u001b[33mWARNING: Error parsing dependencies of python-debian: Invalid version: '0.1.36ubuntu1'\u001b[0m\u001b[33m\n",
      "\u001b[0mNote: you may need to restart the kernel to use updated packages.\n"
     ]
    }
   ],
   "source": [
    "%pip install ipyleaflet\n",
    "%pip install ipywidgets\n",
    "%pip install jupyterlab_widgets\n",
    "\n",
    "# %jupyter nbextension enable --py widgetsnbextension\n",
    "# %jupyter nbextension enable --py ipyleaflet"
   ]
  },
  {
   "cell_type": "markdown",
   "id": "d047cef8-610d-4210-b979-86d4d681b9ec",
   "metadata": {
    "editable": true,
    "slideshow": {
     "slide_type": ""
    },
    "tags": []
   },
   "source": [
    "### Carta semplice"
   ]
  },
  {
   "cell_type": "code",
   "execution_count": 8,
   "id": "5c0d32d9-7848-450d-8d4c-379e902b8c7d",
   "metadata": {
    "editable": true,
    "slideshow": {
     "slide_type": ""
    },
    "tags": [
     "hide-input"
    ]
   },
   "outputs": [
    {
     "data": {
      "application/vnd.jupyter.widget-view+json": {
       "model_id": "683e565980a6471d94c198cc54a73b40",
       "version_major": 2,
       "version_minor": 0
      },
      "text/plain": [
       "VBox(children=(Map(center=[45.0, 10.0], controls=(ZoomControl(options=['position', 'zoom_in_text', 'zoom_in_ti…"
      ]
     },
     "metadata": {},
     "output_type": "display_data"
    }
   ],
   "source": [
    "# from ipyleaflet import Map\n",
    "import ipyleaflet as ll\n",
    "from ipywidgets import Button, VBox\n",
    "\n",
    "from IPython.display import FileLink\n",
    "\n",
    "#> ------------------------------------------------------------------\n",
    "#> Map\n",
    "m = ll.Map(center=(45.0, 10.0), zoom=5)  # , basemap=...\n",
    "\n",
    "#> ------------------------------------------------------------------\n",
    "#> Layers\n",
    "\n",
    "#> ------------------------------------------------------------------\n",
    "#> Controls\n",
    "#> Scale\n",
    "m.add(ll.ScaleControl(position='bottomleft'))\n",
    "#> Full screen\n",
    "m.add(ll.FullScreenControl())\n",
    "#> Measure\n",
    "m.add(ll.MeasureControl(position='bottomleft', active_color='orange', primary_length_unit='kilometers'))\n",
    "#> Split map, with a slider\n",
    "#> Draw, GeomanDrawControl\n",
    "draw_control = ll.GeomanDrawControl()\n",
    "#> Legend\n",
    "#> Search\n",
    "\n",
    "\n",
    "# Store drawn data\n",
    "drawn_features = []\n",
    "\n",
    "# Capture new feature additions\n",
    "def handle_draw(action, geo_json):\n",
    "    if action == 'created':\n",
    "        drawn_features.append(geo_json)\n",
    "        print(f\"Added new feature: {geo_json['geometry']}\")\n",
    "\n",
    "draw_control.on_draw(handle_draw)\n",
    "m.add_control(draw_control)\n",
    "\n",
    "# Add Download Button\n",
    "download_button = Button(description=\"Download Features\")\n",
    "\n",
    "def download_geojson(_):\n",
    "    # Save the drawn features to a GeoJSON file\n",
    "    geojson_data = {\n",
    "        \"type\": \"FeatureCollection\",\n",
    "        \"features\": drawn_features\n",
    "    }\n",
    "    file_path = \"drawn_features.geojson\"\n",
    "    with open(file_path, \"w\") as f:\n",
    "        json.dump(geojson_data, f)\n",
    "        \n",
    "    print(f\"Features saved to {file_path}\")\n",
    "    display(FileLink(file_path))\n",
    "\n",
    "download_button.on_click(download_geojson)\n",
    "# download_button.on_click(lambda _: display(FileLink(download_geojson)))\n",
    "\n",
    "# Display Map and Button\n",
    "VBox([m, download_button])\n",
    "\n",
    "\n",
    "# m"
   ]
  },
  {
   "cell_type": "code",
   "execution_count": 7,
   "id": "20ab52e6-fa29-47de-b30f-4e859ba1f79c",
   "metadata": {},
   "outputs": [
    {
     "name": "stdout",
     "output_type": "stream",
     "text": [
      "cwd: /home/davide/Documents/basics-books/books/bbooks-insights/ch\n"
     ]
    }
   ],
   "source": [
    "import os\n",
    "print(f\"cwd: {os.getcwd()}\")"
   ]
  },
  {
   "cell_type": "markdown",
   "id": "1df0aa38-d1dc-4cf3-80eb-bb6a2f429804",
   "metadata": {
    "editable": true,
    "jp-MarkdownHeadingCollapsed": true,
    "slideshow": {
     "slide_type": ""
    },
    "tags": []
   },
   "source": [
    "### Carta con qualche dettaglio e interattività"
   ]
  },
  {
   "cell_type": "code",
   "execution_count": 8,
   "id": "90fbc880-3495-45a3-bc9a-997c8642b70b",
   "metadata": {
    "editable": true,
    "slideshow": {
     "slide_type": ""
    },
    "tags": [
     "hide-input"
    ]
   },
   "outputs": [
    {
     "data": {
      "application/vnd.jupyter.widget-view+json": {
       "model_id": "cdeed93355e24400a6acee082867f517",
       "version_major": 2,
       "version_minor": 0
      },
      "text/plain": [
       "Map(center=[45, 10], controls=(ZoomControl(options=['position', 'zoom_in_text', 'zoom_in_title', 'zoom_out_tex…"
      ]
     },
     "metadata": {},
     "output_type": "display_data"
    }
   ],
   "source": [
    "\n",
    "from ipyleaflet import (\n",
    "    Map, GeoJSON, LayerGroup, WidgetControl\n",
    ")\n",
    "from ipywidgets import IntSlider, VBox, HTML\n",
    "import json\n",
    "\n",
    "\n",
    "# Load GeoJSON data (replace with real historical boundary data)\n",
    "# Here we use dummy data, you need to replace these with actual files for Italy and France boundaries over time\n",
    "def load_geojson(country, year):\n",
    "    # This function simulates loading GeoJSON files\n",
    "    # Replace it with paths to actual files or GeoJSON objects\n",
    "    return {\n",
    "        \"type\": \"FeatureCollection\",\n",
    "        \"features\": [\n",
    "            {\n",
    "                \"type\": \"Feature\",\n",
    "                \"geometry\": {\n",
    "                    \"type\": \"Polygon\",\n",
    "                    \"coordinates\": [\n",
    "                        [\n",
    "                            [2.0, 47.0], [7.0, 47.0], [7.0, 42.0], [2.0, 42.0], [2.0, 47.0]\n",
    "                        ] if country == \"France\" else\n",
    "                        [[8.0, 46.0], [14.0, 46.0], [14.0, 40.0], [8.0, 40.0], [8.0, 46.0]]\n",
    "                    ],\n",
    "                },\n",
    "                \"properties\": {\n",
    "                    \"country\": country,\n",
    "                    \"year\": year\n",
    "                }\n",
    "            }\n",
    "        ]\n",
    "    }\n",
    "\n",
    "# Map Initialization\n",
    "m = Map(center=(45, 10), zoom=5)\n",
    "\n",
    "# Slider for Year\n",
    "year_slider = IntSlider(value=1800, min=1800, max=1950, step=10, description='Year:')\n",
    "\n",
    "# Layer Groups for Countries\n",
    "italy_layer_group = LayerGroup(name=\"Italy\")\n",
    "france_layer_group = LayerGroup(name=\"France\")\n",
    "\n",
    "# Function to Update Layers Based on Year\n",
    "def update_layers(change):\n",
    "    year = change['new']\n",
    "    italy_layer_group.clear_layers()\n",
    "    france_layer_group.clear_layers()\n",
    "\n",
    "    italy_data = load_geojson(\"Italy\", year)\n",
    "    france_data = load_geojson(\"France\", year)\n",
    "\n",
    "    italy_geojson = GeoJSON(data=italy_data, style={'color': 'green', 'opacity': 0.6, 'weight': 1.5})\n",
    "    france_geojson = GeoJSON(data=france_data, style={'color': 'blue', 'opacity': 0.6, 'weight': 1.5})\n",
    "\n",
    "    italy_layer_group.add_layer(italy_geojson)\n",
    "    france_layer_group.add_layer(france_geojson)\n",
    "\n",
    "# Initial Layer Update\n",
    "update_layers({'new': year_slider.value})\n",
    "\n",
    "# Attach Slider Event\n",
    "year_slider.observe(update_layers, 'value')\n",
    "\n",
    "# Add Layers to the Map\n",
    "m.add_layer(italy_layer_group)\n",
    "m.add_layer(france_layer_group)\n",
    "\n",
    "# Add Controls to the Map\n",
    "m.add_control(WidgetControl(widget=year_slider, position='topright'))\n",
    "\n",
    "# Display Map\n",
    "m\n"
   ]
  }
 ],
 "metadata": {
  "kernelspec": {
   "display_name": "Python 3 (ipykernel)",
   "language": "python",
   "name": "python3"
  },
  "language_info": {
   "codemirror_mode": {
    "name": "ipython",
    "version": 3
   },
   "file_extension": ".py",
   "mimetype": "text/x-python",
   "name": "python",
   "nbconvert_exporter": "python",
   "pygments_lexer": "ipython3",
   "version": "3.8.10"
  }
 },
 "nbformat": 4,
 "nbformat_minor": 5
}
